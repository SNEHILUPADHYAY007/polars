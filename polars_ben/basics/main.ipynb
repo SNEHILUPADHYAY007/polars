{
 "cells": [
  {
   "cell_type": "markdown",
   "id": "c9e9dfa7-a74d-41f1-8e4e-8282a359e975",
   "metadata": {},
   "source": [
    "# Polars Basics\n",
    "- Reading the CSV with Polars In-Memory Mode\n",
    "- Reading the CSv with Polars Lazy Mode"
   ]
  },
  {
   "cell_type": "code",
   "execution_count": 32,
   "id": "d48819c1-078d-408f-9ae4-2884b8db3f07",
   "metadata": {},
   "outputs": [],
   "source": [
    "import polars as pl\n",
    "\n",
    "csv_file = './data/yellow_tripdata_2023-02.csv'\n",
    "parquet_file = './data/yellow_tripdata_2023-02.parquet'"
   ]
  },
  {
   "cell_type": "code",
   "execution_count": 34,
   "id": "b65c06a4-dcc4-48d0-9353-41b303fd0050",
   "metadata": {
    "collapsed": true,
    "jupyter": {
     "outputs_hidden": true
    },
    "scrolled": true
   },
   "outputs": [
    {
     "name": "stdout",
     "output_type": "stream",
     "text": [
      "shape: (2_913_955, 19)\n",
      "┌──────────┬──────────────┬──────────────┬──────────────┬───┬──────────────┬──────────────┬──────────────┬─────────────┐\n",
      "│ VendorID ┆ tpep_pickup_ ┆ tpep_dropoff ┆ passenger_co ┆ … ┆ improvement_ ┆ total_amount ┆ congestion_s ┆ Airport_fee │\n",
      "│ ---      ┆ datetime     ┆ _datetime    ┆ unt          ┆   ┆ surcharge    ┆ ---          ┆ urcharge     ┆ ---         │\n",
      "│ i64      ┆ ---          ┆ ---          ┆ ---          ┆   ┆ ---          ┆ f64          ┆ ---          ┆ f64         │\n",
      "│          ┆ str          ┆ str          ┆ i64          ┆   ┆ f64          ┆              ┆ f64          ┆             │\n",
      "╞══════════╪══════════════╪══════════════╪══════════════╪═══╪══════════════╪══════════════╪══════════════╪═════════════╡\n",
      "│ 1        ┆ 2023-02-01T0 ┆ 2023-02-01T0 ┆ 2            ┆ … ┆ 1.0          ┆ 9.4          ┆ 2.5          ┆ 0.0         │\n",
      "│          ┆ 0:32:53.0000 ┆ 0:34:34.0000 ┆              ┆   ┆              ┆              ┆              ┆             │\n",
      "│          ┆ 00000        ┆ 00000        ┆              ┆   ┆              ┆              ┆              ┆             │\n",
      "│ 2        ┆ 2023-02-01T0 ┆ 2023-02-01T0 ┆ 1            ┆ … ┆ -1.0         ┆ -5.5         ┆ 0.0          ┆ 0.0         │\n",
      "│          ┆ 0:35:16.0000 ┆ 0:35:30.0000 ┆              ┆   ┆              ┆              ┆              ┆             │\n",
      "│          ┆ 00000        ┆ 00000        ┆              ┆   ┆              ┆              ┆              ┆             │\n",
      "│ 2        ┆ 2023-02-01T0 ┆ 2023-02-01T0 ┆ 1            ┆ … ┆ 1.0          ┆ 5.5          ┆ 0.0          ┆ 0.0         │\n",
      "│          ┆ 0:35:16.0000 ┆ 0:35:30.0000 ┆              ┆   ┆              ┆              ┆              ┆             │\n",
      "│          ┆ 00000        ┆ 00000        ┆              ┆   ┆              ┆              ┆              ┆             │\n",
      "│ 1        ┆ 2023-02-01T0 ┆ 2023-02-01T0 ┆ 0            ┆ … ┆ 1.0          ┆ 74.65        ┆ 0.0          ┆ 1.25        │\n",
      "│          ┆ 0:29:33.0000 ┆ 1:01:38.0000 ┆              ┆   ┆              ┆              ┆              ┆             │\n",
      "│          ┆ 00000        ┆ 00000        ┆              ┆   ┆              ┆              ┆              ┆             │\n",
      "│ 2        ┆ 2023-02-01T0 ┆ 2023-02-01T0 ┆ 1            ┆ … ┆ 1.0          ┆ 25.3         ┆ 2.5          ┆ 0.0         │\n",
      "│          ┆ 0:12:28.0000 ┆ 0:25:46.0000 ┆              ┆   ┆              ┆              ┆              ┆             │\n",
      "│          ┆ 00000        ┆ 00000        ┆              ┆   ┆              ┆              ┆              ┆             │\n",
      "│ …        ┆ …            ┆ …            ┆ …            ┆ … ┆ …            ┆ …            ┆ …            ┆ …           │\n",
      "│ 2        ┆ 2023-02-28T2 ┆ 2023-03-01T0 ┆ null         ┆ … ┆ 1.0          ┆ 29.06        ┆ null         ┆ null        │\n",
      "│          ┆ 3:46:00.0000 ┆ 0:05:00.0000 ┆              ┆   ┆              ┆              ┆              ┆             │\n",
      "│          ┆ 00000        ┆ 00000        ┆              ┆   ┆              ┆              ┆              ┆             │\n",
      "│ 2        ┆ 2023-02-28T2 ┆ 2023-02-28T2 ┆ null         ┆ … ┆ 1.0          ┆ 20.31        ┆ null         ┆ null        │\n",
      "│          ┆ 3:26:02.0000 ┆ 3:37:10.0000 ┆              ┆   ┆              ┆              ┆              ┆             │\n",
      "│          ┆ 00000        ┆ 00000        ┆              ┆   ┆              ┆              ┆              ┆             │\n",
      "│ 2        ┆ 2023-02-28T2 ┆ 2023-02-28T2 ┆ null         ┆ … ┆ 1.0          ┆ 21.64        ┆ null         ┆ null        │\n",
      "│          ┆ 3:24:00.0000 ┆ 3:38:00.0000 ┆              ┆   ┆              ┆              ┆              ┆             │\n",
      "│          ┆ 00000        ┆ 00000        ┆              ┆   ┆              ┆              ┆              ┆             │\n",
      "│ 2        ┆ 2023-02-28T2 ┆ 2023-02-28T2 ┆ null         ┆ … ┆ 1.0          ┆ 20.19        ┆ null         ┆ null        │\n",
      "│          ┆ 3:03:00.0000 ┆ 3:10:00.0000 ┆              ┆   ┆              ┆              ┆              ┆             │\n",
      "│          ┆ 00000        ┆ 00000        ┆              ┆   ┆              ┆              ┆              ┆             │\n",
      "│ 2        ┆ 2023-02-28T2 ┆ 2023-02-28T2 ┆ null         ┆ … ┆ 1.0          ┆ 22.67        ┆ null         ┆ null        │\n",
      "│          ┆ 3:03:03.0000 ┆ 3:12:51.0000 ┆              ┆   ┆              ┆              ┆              ┆             │\n",
      "│          ┆ 00000        ┆ 00000        ┆              ┆   ┆              ┆              ┆              ┆             │\n",
      "└──────────┴──────────────┴──────────────┴──────────────┴───┴──────────────┴──────────────┴──────────────┴─────────────┘\n"
     ]
    }
   ],
   "source": [
    "df = pl.read_parquet(parquet_file)\n",
    "df.write_csv(f'./data/yellow_tripdata_2023-02.csv')\n",
    "print(pl.read_csv(csv_file))"
   ]
  },
  {
   "cell_type": "code",
   "execution_count": 35,
   "id": "dd06babe-92b8-4049-a2eb-63fc4dabd708",
   "metadata": {
    "collapsed": true,
    "jupyter": {
     "outputs_hidden": true
    }
   },
   "outputs": [
    {
     "data": {
      "text/html": [
       "<div><style>\n",
       ".dataframe > thead > tr,\n",
       ".dataframe > tbody > tr {\n",
       "  text-align: right;\n",
       "  white-space: pre-wrap;\n",
       "}\n",
       "</style>\n",
       "<small>shape: (2_913_955, 19)</small><table border=\"1\" class=\"dataframe\"><thead><tr><th>VendorID</th><th>tpep_pickup_datetime</th><th>tpep_dropoff_datetime</th><th>passenger_count</th><th>trip_distance</th><th>RatecodeID</th><th>store_and_fwd_flag</th><th>PULocationID</th><th>DOLocationID</th><th>payment_type</th><th>fare_amount</th><th>extra</th><th>mta_tax</th><th>tip_amount</th><th>tolls_amount</th><th>improvement_surcharge</th><th>total_amount</th><th>congestion_surcharge</th><th>Airport_fee</th></tr><tr><td>i64</td><td>datetime[μs]</td><td>datetime[μs]</td><td>i64</td><td>f64</td><td>i64</td><td>str</td><td>i64</td><td>i64</td><td>i64</td><td>f64</td><td>f64</td><td>f64</td><td>f64</td><td>f64</td><td>f64</td><td>f64</td><td>f64</td><td>f64</td></tr></thead><tbody><tr><td>1</td><td>2023-02-01 00:32:53</td><td>2023-02-01 00:34:34</td><td>2</td><td>0.3</td><td>1</td><td>&quot;N&quot;</td><td>142</td><td>163</td><td>2</td><td>4.4</td><td>3.5</td><td>0.5</td><td>0.0</td><td>0.0</td><td>1.0</td><td>9.4</td><td>2.5</td><td>0.0</td></tr><tr><td>2</td><td>2023-02-01 00:35:16</td><td>2023-02-01 00:35:30</td><td>1</td><td>0.0</td><td>1</td><td>&quot;N&quot;</td><td>71</td><td>71</td><td>4</td><td>-3.0</td><td>-1.0</td><td>-0.5</td><td>0.0</td><td>0.0</td><td>-1.0</td><td>-5.5</td><td>0.0</td><td>0.0</td></tr><tr><td>2</td><td>2023-02-01 00:35:16</td><td>2023-02-01 00:35:30</td><td>1</td><td>0.0</td><td>1</td><td>&quot;N&quot;</td><td>71</td><td>71</td><td>4</td><td>3.0</td><td>1.0</td><td>0.5</td><td>0.0</td><td>0.0</td><td>1.0</td><td>5.5</td><td>0.0</td><td>0.0</td></tr><tr><td>1</td><td>2023-02-01 00:29:33</td><td>2023-02-01 01:01:38</td><td>0</td><td>18.8</td><td>1</td><td>&quot;N&quot;</td><td>132</td><td>26</td><td>1</td><td>70.9</td><td>2.25</td><td>0.5</td><td>0.0</td><td>0.0</td><td>1.0</td><td>74.65</td><td>0.0</td><td>1.25</td></tr><tr><td>2</td><td>2023-02-01 00:12:28</td><td>2023-02-01 00:25:46</td><td>1</td><td>3.22</td><td>1</td><td>&quot;N&quot;</td><td>161</td><td>145</td><td>1</td><td>17.0</td><td>1.0</td><td>0.5</td><td>3.3</td><td>0.0</td><td>1.0</td><td>25.3</td><td>2.5</td><td>0.0</td></tr><tr><td>&hellip;</td><td>&hellip;</td><td>&hellip;</td><td>&hellip;</td><td>&hellip;</td><td>&hellip;</td><td>&hellip;</td><td>&hellip;</td><td>&hellip;</td><td>&hellip;</td><td>&hellip;</td><td>&hellip;</td><td>&hellip;</td><td>&hellip;</td><td>&hellip;</td><td>&hellip;</td><td>&hellip;</td><td>&hellip;</td><td>&hellip;</td></tr><tr><td>2</td><td>2023-02-28 23:46:00</td><td>2023-03-01 00:05:00</td><td>null</td><td>4.65</td><td>null</td><td>null</td><td>249</td><td>140</td><td>0</td><td>20.22</td><td>0.0</td><td>0.5</td><td>4.84</td><td>0.0</td><td>1.0</td><td>29.06</td><td>null</td><td>null</td></tr><tr><td>2</td><td>2023-02-28 23:26:02</td><td>2023-02-28 23:37:10</td><td>null</td><td>2.47</td><td>null</td><td>null</td><td>186</td><td>79</td><td>0</td><td>13.66</td><td>0.0</td><td>0.5</td><td>2.65</td><td>0.0</td><td>1.0</td><td>20.31</td><td>null</td><td>null</td></tr><tr><td>2</td><td>2023-02-28 23:24:00</td><td>2023-02-28 23:38:00</td><td>null</td><td>3.49</td><td>null</td><td>null</td><td>158</td><td>143</td><td>0</td><td>17.64</td><td>0.0</td><td>0.5</td><td>0.0</td><td>0.0</td><td>1.0</td><td>21.64</td><td>null</td><td>null</td></tr><tr><td>2</td><td>2023-02-28 23:03:00</td><td>2023-02-28 23:10:00</td><td>null</td><td>2.13</td><td>null</td><td>null</td><td>79</td><td>162</td><td>0</td><td>13.56</td><td>0.0</td><td>0.5</td><td>2.63</td><td>0.0</td><td>1.0</td><td>20.19</td><td>null</td><td>null</td></tr><tr><td>2</td><td>2023-02-28 23:03:03</td><td>2023-02-28 23:12:51</td><td>null</td><td>2.28</td><td>null</td><td>null</td><td>161</td><td>140</td><td>0</td><td>14.89</td><td>0.0</td><td>0.5</td><td>3.78</td><td>0.0</td><td>1.0</td><td>22.67</td><td>null</td><td>null</td></tr></tbody></table></div>"
      ],
      "text/plain": [
       "shape: (2_913_955, 19)\n",
       "┌──────────┬──────────────┬──────────────┬──────────────┬───┬──────────────┬──────────────┬──────────────┬─────────────┐\n",
       "│ VendorID ┆ tpep_pickup_ ┆ tpep_dropoff ┆ passenger_co ┆ … ┆ improvement_ ┆ total_amount ┆ congestion_s ┆ Airport_fee │\n",
       "│ ---      ┆ datetime     ┆ _datetime    ┆ unt          ┆   ┆ surcharge    ┆ ---          ┆ urcharge     ┆ ---         │\n",
       "│ i64      ┆ ---          ┆ ---          ┆ ---          ┆   ┆ ---          ┆ f64          ┆ ---          ┆ f64         │\n",
       "│          ┆ datetime[μs] ┆ datetime[μs] ┆ i64          ┆   ┆ f64          ┆              ┆ f64          ┆             │\n",
       "╞══════════╪══════════════╪══════════════╪══════════════╪═══╪══════════════╪══════════════╪══════════════╪═════════════╡\n",
       "│ 1        ┆ 2023-02-01   ┆ 2023-02-01   ┆ 2            ┆ … ┆ 1.0          ┆ 9.4          ┆ 2.5          ┆ 0.0         │\n",
       "│          ┆ 00:32:53     ┆ 00:34:34     ┆              ┆   ┆              ┆              ┆              ┆             │\n",
       "│ 2        ┆ 2023-02-01   ┆ 2023-02-01   ┆ 1            ┆ … ┆ -1.0         ┆ -5.5         ┆ 0.0          ┆ 0.0         │\n",
       "│          ┆ 00:35:16     ┆ 00:35:30     ┆              ┆   ┆              ┆              ┆              ┆             │\n",
       "│ 2        ┆ 2023-02-01   ┆ 2023-02-01   ┆ 1            ┆ … ┆ 1.0          ┆ 5.5          ┆ 0.0          ┆ 0.0         │\n",
       "│          ┆ 00:35:16     ┆ 00:35:30     ┆              ┆   ┆              ┆              ┆              ┆             │\n",
       "│ 1        ┆ 2023-02-01   ┆ 2023-02-01   ┆ 0            ┆ … ┆ 1.0          ┆ 74.65        ┆ 0.0          ┆ 1.25        │\n",
       "│          ┆ 00:29:33     ┆ 01:01:38     ┆              ┆   ┆              ┆              ┆              ┆             │\n",
       "│ 2        ┆ 2023-02-01   ┆ 2023-02-01   ┆ 1            ┆ … ┆ 1.0          ┆ 25.3         ┆ 2.5          ┆ 0.0         │\n",
       "│          ┆ 00:12:28     ┆ 00:25:46     ┆              ┆   ┆              ┆              ┆              ┆             │\n",
       "│ …        ┆ …            ┆ …            ┆ …            ┆ … ┆ …            ┆ …            ┆ …            ┆ …           │\n",
       "│ 2        ┆ 2023-02-28   ┆ 2023-03-01   ┆ null         ┆ … ┆ 1.0          ┆ 29.06        ┆ null         ┆ null        │\n",
       "│          ┆ 23:46:00     ┆ 00:05:00     ┆              ┆   ┆              ┆              ┆              ┆             │\n",
       "│ 2        ┆ 2023-02-28   ┆ 2023-02-28   ┆ null         ┆ … ┆ 1.0          ┆ 20.31        ┆ null         ┆ null        │\n",
       "│          ┆ 23:26:02     ┆ 23:37:10     ┆              ┆   ┆              ┆              ┆              ┆             │\n",
       "│ 2        ┆ 2023-02-28   ┆ 2023-02-28   ┆ null         ┆ … ┆ 1.0          ┆ 21.64        ┆ null         ┆ null        │\n",
       "│          ┆ 23:24:00     ┆ 23:38:00     ┆              ┆   ┆              ┆              ┆              ┆             │\n",
       "│ 2        ┆ 2023-02-28   ┆ 2023-02-28   ┆ null         ┆ … ┆ 1.0          ┆ 20.19        ┆ null         ┆ null        │\n",
       "│          ┆ 23:03:00     ┆ 23:10:00     ┆              ┆   ┆              ┆              ┆              ┆             │\n",
       "│ 2        ┆ 2023-02-28   ┆ 2023-02-28   ┆ null         ┆ … ┆ 1.0          ┆ 22.67        ┆ null         ┆ null        │\n",
       "│          ┆ 23:03:03     ┆ 23:12:51     ┆              ┆   ┆              ┆              ┆              ┆             │\n",
       "└──────────┴──────────────┴──────────────┴──────────────┴───┴──────────────┴──────────────┴──────────────┴─────────────┘"
      ]
     },
     "execution_count": 35,
     "metadata": {},
     "output_type": "execute_result"
    }
   ],
   "source": [
    "lf = pl.scan_csv(csv_file, try_parse_dates = True)\n",
    "lf.head()\n",
    "\n",
    "lf.collect()"
   ]
  },
  {
   "cell_type": "markdown",
   "id": "76fe40ad-a2ee-437d-b77b-522e2cafadd0",
   "metadata": {},
   "source": [
    "# Selecting Data: In-Memory vs Lazy Mode"
   ]
  },
  {
   "cell_type": "code",
   "execution_count": 30,
   "id": "7bd54b92-3771-4789-9b17-85ed968c87d2",
   "metadata": {
    "collapsed": true,
    "jupyter": {
     "outputs_hidden": true
    },
    "scrolled": true
   },
   "outputs": [
    {
     "data": {
      "text/html": [
       "<div><style>\n",
       ".dataframe > thead > tr,\n",
       ".dataframe > tbody > tr {\n",
       "  text-align: right;\n",
       "  white-space: pre-wrap;\n",
       "}\n",
       "</style>\n",
       "<small>shape: (5, 2)</small><table border=\"1\" class=\"dataframe\"><thead><tr><th>tpep_pickup_datetime</th><th>tpep_dropoff_datetime</th></tr><tr><td>datetime[ns]</td><td>datetime[ns]</td></tr></thead><tbody><tr><td>2023-02-01 00:32:53</td><td>2023-02-01 00:34:34</td></tr><tr><td>2023-02-01 00:35:16</td><td>2023-02-01 00:35:30</td></tr><tr><td>2023-02-01 00:35:16</td><td>2023-02-01 00:35:30</td></tr><tr><td>2023-02-01 00:29:33</td><td>2023-02-01 01:01:38</td></tr><tr><td>2023-02-01 00:12:28</td><td>2023-02-01 00:25:46</td></tr></tbody></table></div>"
      ],
      "text/plain": [
       "shape: (5, 2)\n",
       "┌──────────────────────┬───────────────────────┐\n",
       "│ tpep_pickup_datetime ┆ tpep_dropoff_datetime │\n",
       "│ ---                  ┆ ---                   │\n",
       "│ datetime[ns]         ┆ datetime[ns]          │\n",
       "╞══════════════════════╪═══════════════════════╡\n",
       "│ 2023-02-01 00:32:53  ┆ 2023-02-01 00:34:34   │\n",
       "│ 2023-02-01 00:35:16  ┆ 2023-02-01 00:35:30   │\n",
       "│ 2023-02-01 00:35:16  ┆ 2023-02-01 00:35:30   │\n",
       "│ 2023-02-01 00:29:33  ┆ 2023-02-01 01:01:38   │\n",
       "│ 2023-02-01 00:12:28  ┆ 2023-02-01 00:25:46   │\n",
       "└──────────────────────┴───────────────────────┘"
      ]
     },
     "execution_count": 30,
     "metadata": {},
     "output_type": "execute_result"
    }
   ],
   "source": [
    "# In-memory mode data selecting\n",
    "(\n",
    "    df\n",
    "    .select([\"tpep_pickup_datetime\", \"tpep_dropoff_datetime\"])\n",
    "    .head()\n",
    ")"
   ]
  },
  {
   "cell_type": "code",
   "execution_count": 31,
   "id": "7249fe5a-eca4-43ab-9cc3-1b9bab2b695b",
   "metadata": {
    "collapsed": true,
    "jupyter": {
     "outputs_hidden": true
    }
   },
   "outputs": [
    {
     "data": {
      "text/html": [
       "<div><style>\n",
       ".dataframe > thead > tr,\n",
       ".dataframe > tbody > tr {\n",
       "  text-align: right;\n",
       "  white-space: pre-wrap;\n",
       "}\n",
       "</style>\n",
       "<small>shape: (5, 2)</small><table border=\"1\" class=\"dataframe\"><thead><tr><th>tpep_pickup_datetime</th><th>tpep_dropoff_datetime</th></tr><tr><td>datetime[μs]</td><td>datetime[μs]</td></tr></thead><tbody><tr><td>2023-02-01 00:32:53</td><td>2023-02-01 00:34:34</td></tr><tr><td>2023-02-01 00:35:16</td><td>2023-02-01 00:35:30</td></tr><tr><td>2023-02-01 00:35:16</td><td>2023-02-01 00:35:30</td></tr><tr><td>2023-02-01 00:29:33</td><td>2023-02-01 01:01:38</td></tr><tr><td>2023-02-01 00:12:28</td><td>2023-02-01 00:25:46</td></tr></tbody></table></div>"
      ],
      "text/plain": [
       "shape: (5, 2)\n",
       "┌──────────────────────┬───────────────────────┐\n",
       "│ tpep_pickup_datetime ┆ tpep_dropoff_datetime │\n",
       "│ ---                  ┆ ---                   │\n",
       "│ datetime[μs]         ┆ datetime[μs]          │\n",
       "╞══════════════════════╪═══════════════════════╡\n",
       "│ 2023-02-01 00:32:53  ┆ 2023-02-01 00:34:34   │\n",
       "│ 2023-02-01 00:35:16  ┆ 2023-02-01 00:35:30   │\n",
       "│ 2023-02-01 00:35:16  ┆ 2023-02-01 00:35:30   │\n",
       "│ 2023-02-01 00:29:33  ┆ 2023-02-01 01:01:38   │\n",
       "│ 2023-02-01 00:12:28  ┆ 2023-02-01 00:25:46   │\n",
       "└──────────────────────┴───────────────────────┘"
      ]
     },
     "execution_count": 31,
     "metadata": {},
     "output_type": "execute_result"
    }
   ],
   "source": [
    "# data selecting from lazyframe\n",
    "(\n",
    "    lf\n",
    "    .select([\"tpep_pickup_datetime\", \"tpep_dropoff_datetime\"])\n",
    "    .head()\n",
    "    .collect()\n",
    "    # .explain(optimized=True)\n",
    ")"
   ]
  },
  {
   "cell_type": "code",
   "execution_count": null,
   "id": "ca81e0b4-7deb-4c10-90d5-870dd269b716",
   "metadata": {},
   "outputs": [],
   "source": []
  }
 ],
 "metadata": {
  "kernelspec": {
   "display_name": "Python 3 (ipykernel)",
   "language": "python",
   "name": "python3"
  },
  "language_info": {
   "codemirror_mode": {
    "name": "ipython",
    "version": 3
   },
   "file_extension": ".py",
   "mimetype": "text/x-python",
   "name": "python",
   "nbconvert_exporter": "python",
   "pygments_lexer": "ipython3",
   "version": "3.10.1"
  }
 },
 "nbformat": 4,
 "nbformat_minor": 5
}
