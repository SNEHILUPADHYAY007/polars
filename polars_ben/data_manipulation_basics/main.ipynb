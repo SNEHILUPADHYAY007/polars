{
 "cells": [
  {
   "cell_type": "code",
   "execution_count": 7,
   "id": "d8c811ad-75a4-49ac-8a3e-34a645de7f0e",
   "metadata": {},
   "outputs": [],
   "source": [
    "import polars as pl\n",
    "csv_file = '../data/yellow_tripdata_2023-02.csv'\n",
    "parquet_file = '../data/yellow_tripdata_2023-02.parquet'"
   ]
  },
  {
   "cell_type": "code",
   "execution_count": 8,
   "id": "641a6929-7da5-4813-8235-b07105cd8ace",
   "metadata": {},
   "outputs": [
    {
     "data": {
      "text/html": [
       "<div><style>\n",
       ".dataframe > thead > tr,\n",
       ".dataframe > tbody > tr {\n",
       "  text-align: right;\n",
       "  white-space: pre-wrap;\n",
       "}\n",
       "</style>\n",
       "<small>shape: (2, 19)</small><table border=\"1\" class=\"dataframe\"><thead><tr><th>VendorID</th><th>tpep_pickup_datetime</th><th>tpep_dropoff_datetime</th><th>passenger_count</th><th>trip_distance</th><th>RatecodeID</th><th>store_and_fwd_flag</th><th>PULocationID</th><th>DOLocationID</th><th>payment_type</th><th>fare_amount</th><th>extra</th><th>mta_tax</th><th>tip_amount</th><th>tolls_amount</th><th>improvement_surcharge</th><th>total_amount</th><th>congestion_surcharge</th><th>Airport_fee</th></tr><tr><td>i32</td><td>datetime[ns]</td><td>datetime[ns]</td><td>i64</td><td>f64</td><td>i64</td><td>str</td><td>i32</td><td>i32</td><td>i64</td><td>f64</td><td>f64</td><td>f64</td><td>f64</td><td>f64</td><td>f64</td><td>f64</td><td>f64</td><td>f64</td></tr></thead><tbody><tr><td>1</td><td>2023-02-01 00:32:53</td><td>2023-02-01 00:34:34</td><td>2</td><td>0.3</td><td>1</td><td>&quot;N&quot;</td><td>142</td><td>163</td><td>2</td><td>4.4</td><td>3.5</td><td>0.5</td><td>0.0</td><td>0.0</td><td>1.0</td><td>9.4</td><td>2.5</td><td>0.0</td></tr><tr><td>2</td><td>2023-02-01 00:35:16</td><td>2023-02-01 00:35:30</td><td>1</td><td>0.0</td><td>1</td><td>&quot;N&quot;</td><td>71</td><td>71</td><td>4</td><td>-3.0</td><td>-1.0</td><td>-0.5</td><td>0.0</td><td>0.0</td><td>-1.0</td><td>-5.5</td><td>0.0</td><td>0.0</td></tr></tbody></table></div>"
      ],
      "text/plain": [
       "shape: (2, 19)\n",
       "┌──────────┬──────────────┬──────────────┬──────────────┬───┬──────────────┬──────────────┬──────────────┬─────────────┐\n",
       "│ VendorID ┆ tpep_pickup_ ┆ tpep_dropoff ┆ passenger_co ┆ … ┆ improvement_ ┆ total_amount ┆ congestion_s ┆ Airport_fee │\n",
       "│ ---      ┆ datetime     ┆ _datetime    ┆ unt          ┆   ┆ surcharge    ┆ ---          ┆ urcharge     ┆ ---         │\n",
       "│ i32      ┆ ---          ┆ ---          ┆ ---          ┆   ┆ ---          ┆ f64          ┆ ---          ┆ f64         │\n",
       "│          ┆ datetime[ns] ┆ datetime[ns] ┆ i64          ┆   ┆ f64          ┆              ┆ f64          ┆             │\n",
       "╞══════════╪══════════════╪══════════════╪══════════════╪═══╪══════════════╪══════════════╪══════════════╪═════════════╡\n",
       "│ 1        ┆ 2023-02-01   ┆ 2023-02-01   ┆ 2            ┆ … ┆ 1.0          ┆ 9.4          ┆ 2.5          ┆ 0.0         │\n",
       "│          ┆ 00:32:53     ┆ 00:34:34     ┆              ┆   ┆              ┆              ┆              ┆             │\n",
       "│ 2        ┆ 2023-02-01   ┆ 2023-02-01   ┆ 1            ┆ … ┆ -1.0         ┆ -5.5         ┆ 0.0          ┆ 0.0         │\n",
       "│          ┆ 00:35:16     ┆ 00:35:30     ┆              ┆   ┆              ┆              ┆              ┆             │\n",
       "└──────────┴──────────────┴──────────────┴──────────────┴───┴──────────────┴──────────────┴──────────────┴─────────────┘"
      ]
     },
     "execution_count": 8,
     "metadata": {},
     "output_type": "execute_result"
    }
   ],
   "source": [
    "df = pl.read_parquet(parquet_file)\n",
    "df.head(2)"
   ]
  },
  {
   "cell_type": "markdown",
   "id": "3f103051-5c91-4da7-90c7-14483f7261d6",
   "metadata": {},
   "source": [
    "# Utilizing Column Expression\n",
    "- using gt() with select\n",
    "- using eq() with select\n",
    "- calculating total time travelled\n",
    "- calculating total distance travelled in km\n",
    "- finding min, max of trip_distance"
   ]
  },
  {
   "cell_type": "code",
   "execution_count": 9,
   "id": "9417f712-b85a-47ec-808b-4294d694cf3a",
   "metadata": {},
   "outputs": [
    {
     "data": {
      "text/html": [
       "<div><style>\n",
       ".dataframe > thead > tr,\n",
       ".dataframe > tbody > tr {\n",
       "  text-align: right;\n",
       "  white-space: pre-wrap;\n",
       "}\n",
       "</style>\n",
       "<small>shape: (5, 3)</small><table border=\"1\" class=\"dataframe\"><thead><tr><th>VendorID</th><th>trip_distance</th><th>dist_greater_than_zero</th></tr><tr><td>i32</td><td>f64</td><td>bool</td></tr></thead><tbody><tr><td>1</td><td>0.3</td><td>true</td></tr><tr><td>2</td><td>0.0</td><td>false</td></tr><tr><td>2</td><td>0.0</td><td>false</td></tr><tr><td>1</td><td>18.8</td><td>true</td></tr><tr><td>2</td><td>3.22</td><td>true</td></tr></tbody></table></div>"
      ],
      "text/plain": [
       "shape: (5, 3)\n",
       "┌──────────┬───────────────┬────────────────────────┐\n",
       "│ VendorID ┆ trip_distance ┆ dist_greater_than_zero │\n",
       "│ ---      ┆ ---           ┆ ---                    │\n",
       "│ i32      ┆ f64           ┆ bool                   │\n",
       "╞══════════╪═══════════════╪════════════════════════╡\n",
       "│ 1        ┆ 0.3           ┆ true                   │\n",
       "│ 2        ┆ 0.0           ┆ false                  │\n",
       "│ 2        ┆ 0.0           ┆ false                  │\n",
       "│ 1        ┆ 18.8          ┆ true                   │\n",
       "│ 2        ┆ 3.22          ┆ true                   │\n",
       "└──────────┴───────────────┴────────────────────────┘"
      ]
     },
     "execution_count": 9,
     "metadata": {},
     "output_type": "execute_result"
    }
   ],
   "source": [
    "(\n",
    "    df\n",
    "    .select([\n",
    "        'VendorID',\n",
    "        'trip_distance',\n",
    "        pl.col('trip_distance').gt(0).alias('dist_greater_than_zero')\n",
    "    ])\n",
    "    .head()\n",
    ")"
   ]
  },
  {
   "cell_type": "code",
   "execution_count": 10,
   "id": "70ccee50-821a-4c0d-89ae-b2803a377926",
   "metadata": {},
   "outputs": [
    {
     "data": {
      "text/html": [
       "<div><style>\n",
       ".dataframe > thead > tr,\n",
       ".dataframe > tbody > tr {\n",
       "  text-align: right;\n",
       "  white-space: pre-wrap;\n",
       "}\n",
       "</style>\n",
       "<small>shape: (5, 3)</small><table border=\"1\" class=\"dataframe\"><thead><tr><th>VendorID</th><th>trip_distance</th><th>dist_equals_zero</th></tr><tr><td>i32</td><td>f64</td><td>bool</td></tr></thead><tbody><tr><td>1</td><td>0.3</td><td>false</td></tr><tr><td>2</td><td>0.0</td><td>true</td></tr><tr><td>2</td><td>0.0</td><td>true</td></tr><tr><td>1</td><td>18.8</td><td>false</td></tr><tr><td>2</td><td>3.22</td><td>false</td></tr></tbody></table></div>"
      ],
      "text/plain": [
       "shape: (5, 3)\n",
       "┌──────────┬───────────────┬──────────────────┐\n",
       "│ VendorID ┆ trip_distance ┆ dist_equals_zero │\n",
       "│ ---      ┆ ---           ┆ ---              │\n",
       "│ i32      ┆ f64           ┆ bool             │\n",
       "╞══════════╪═══════════════╪══════════════════╡\n",
       "│ 1        ┆ 0.3           ┆ false            │\n",
       "│ 2        ┆ 0.0           ┆ true             │\n",
       "│ 2        ┆ 0.0           ┆ true             │\n",
       "│ 1        ┆ 18.8          ┆ false            │\n",
       "│ 2        ┆ 3.22          ┆ false            │\n",
       "└──────────┴───────────────┴──────────────────┘"
      ]
     },
     "execution_count": 10,
     "metadata": {},
     "output_type": "execute_result"
    }
   ],
   "source": [
    "(\n",
    "    df\n",
    "    .select([\n",
    "        'VendorID',\n",
    "        'trip_distance',\n",
    "        pl.col('trip_distance').eq(0).alias('dist_equals_zero')\n",
    "    ])\n",
    "    .head()\n",
    ")"
   ]
  },
  {
   "cell_type": "code",
   "execution_count": 11,
   "id": "b2832fb3-06a5-47cb-a23b-b972ce147afe",
   "metadata": {},
   "outputs": [
    {
     "data": {
      "text/html": [
       "<div><style>\n",
       ".dataframe > thead > tr,\n",
       ".dataframe > tbody > tr {\n",
       "  text-align: right;\n",
       "  white-space: pre-wrap;\n",
       "}\n",
       "</style>\n",
       "<small>shape: (5, 4)</small><table border=\"1\" class=\"dataframe\"><thead><tr><th>VendorID</th><th>tpep_dropoff_datetime</th><th>tpep_pickup_datetime</th><th>total_duration_of_travel</th></tr><tr><td>i32</td><td>datetime[ns]</td><td>datetime[ns]</td><td>duration[ns]</td></tr></thead><tbody><tr><td>1</td><td>2023-02-01 00:34:34</td><td>2023-02-01 00:32:53</td><td>1m 41s</td></tr><tr><td>2</td><td>2023-02-01 00:35:30</td><td>2023-02-01 00:35:16</td><td>14s</td></tr><tr><td>2</td><td>2023-02-01 00:35:30</td><td>2023-02-01 00:35:16</td><td>14s</td></tr><tr><td>1</td><td>2023-02-01 01:01:38</td><td>2023-02-01 00:29:33</td><td>32m 5s</td></tr><tr><td>2</td><td>2023-02-01 00:25:46</td><td>2023-02-01 00:12:28</td><td>13m 18s</td></tr></tbody></table></div>"
      ],
      "text/plain": [
       "shape: (5, 4)\n",
       "┌──────────┬───────────────────────┬──────────────────────┬──────────────────────────┐\n",
       "│ VendorID ┆ tpep_dropoff_datetime ┆ tpep_pickup_datetime ┆ total_duration_of_travel │\n",
       "│ ---      ┆ ---                   ┆ ---                  ┆ ---                      │\n",
       "│ i32      ┆ datetime[ns]          ┆ datetime[ns]         ┆ duration[ns]             │\n",
       "╞══════════╪═══════════════════════╪══════════════════════╪══════════════════════════╡\n",
       "│ 1        ┆ 2023-02-01 00:34:34   ┆ 2023-02-01 00:32:53  ┆ 1m 41s                   │\n",
       "│ 2        ┆ 2023-02-01 00:35:30   ┆ 2023-02-01 00:35:16  ┆ 14s                      │\n",
       "│ 2        ┆ 2023-02-01 00:35:30   ┆ 2023-02-01 00:35:16  ┆ 14s                      │\n",
       "│ 1        ┆ 2023-02-01 01:01:38   ┆ 2023-02-01 00:29:33  ┆ 32m 5s                   │\n",
       "│ 2        ┆ 2023-02-01 00:25:46   ┆ 2023-02-01 00:12:28  ┆ 13m 18s                  │\n",
       "└──────────┴───────────────────────┴──────────────────────┴──────────────────────────┘"
      ]
     },
     "execution_count": 11,
     "metadata": {},
     "output_type": "execute_result"
    }
   ],
   "source": [
    "(\n",
    "    df\n",
    "    .select([\n",
    "        'VendorID',\n",
    "        'tpep_dropoff_datetime',\n",
    "        'tpep_pickup_datetime',\n",
    "        (pl.col('tpep_dropoff_datetime') - pl.col('tpep_pickup_datetime')).alias('total_duration_of_travel')\n",
    "    ])\n",
    "    .head()\n",
    ")"
   ]
  },
  {
   "cell_type": "code",
   "execution_count": 12,
   "id": "28a549af-12a9-4e92-9d9b-2fed39dcef64",
   "metadata": {},
   "outputs": [
    {
     "data": {
      "text/html": [
       "<div><style>\n",
       ".dataframe > thead > tr,\n",
       ".dataframe > tbody > tr {\n",
       "  text-align: right;\n",
       "  white-space: pre-wrap;\n",
       "}\n",
       "</style>\n",
       "<small>shape: (5, 3)</small><table border=\"1\" class=\"dataframe\"><thead><tr><th>VendorID</th><th>trip_distance_in_miles</th><th>trip_distance_in_km</th></tr><tr><td>i32</td><td>f64</td><td>f64</td></tr></thead><tbody><tr><td>1</td><td>0.3</td><td>0.483</td></tr><tr><td>2</td><td>0.0</td><td>0.0</td></tr><tr><td>2</td><td>0.0</td><td>0.0</td></tr><tr><td>1</td><td>18.8</td><td>30.268</td></tr><tr><td>2</td><td>3.22</td><td>5.1842</td></tr></tbody></table></div>"
      ],
      "text/plain": [
       "shape: (5, 3)\n",
       "┌──────────┬────────────────────────┬─────────────────────┐\n",
       "│ VendorID ┆ trip_distance_in_miles ┆ trip_distance_in_km │\n",
       "│ ---      ┆ ---                    ┆ ---                 │\n",
       "│ i32      ┆ f64                    ┆ f64                 │\n",
       "╞══════════╪════════════════════════╪═════════════════════╡\n",
       "│ 1        ┆ 0.3                    ┆ 0.483               │\n",
       "│ 2        ┆ 0.0                    ┆ 0.0                 │\n",
       "│ 2        ┆ 0.0                    ┆ 0.0                 │\n",
       "│ 1        ┆ 18.8                   ┆ 30.268              │\n",
       "│ 2        ┆ 3.22                   ┆ 5.1842              │\n",
       "└──────────┴────────────────────────┴─────────────────────┘"
      ]
     },
     "execution_count": 12,
     "metadata": {},
     "output_type": "execute_result"
    }
   ],
   "source": [
    "kilometers_per_mile = 1.61\n",
    "(\n",
    "    df\n",
    "    .select([\n",
    "        'VendorID',\n",
    "        pl.col('trip_distance').name.suffix('_in_miles'),\n",
    "        (pl.col('trip_distance') * kilometers_per_mile).name.suffix('_in_km')\n",
    "    ])\n",
    "    .head()\n",
    ")"
   ]
  },
  {
   "cell_type": "code",
   "execution_count": 16,
   "id": "1e1f99e7-5e66-4b19-90cf-9cd7639b6968",
   "metadata": {},
   "outputs": [
    {
     "data": {
      "text/html": [
       "<div><style>\n",
       ".dataframe > thead > tr,\n",
       ".dataframe > tbody > tr {\n",
       "  text-align: right;\n",
       "  white-space: pre-wrap;\n",
       "}\n",
       "</style>\n",
       "<small>shape: (1, 2)</small><table border=\"1\" class=\"dataframe\"><thead><tr><th>trip_distance_min</th><th>trip_distance_max</th></tr><tr><td>f64</td><td>f64</td></tr></thead><tbody><tr><td>0.0</td><td>335004.33</td></tr></tbody></table></div>"
      ],
      "text/plain": [
       "shape: (1, 2)\n",
       "┌───────────────────┬───────────────────┐\n",
       "│ trip_distance_min ┆ trip_distance_max │\n",
       "│ ---               ┆ ---               │\n",
       "│ f64               ┆ f64               │\n",
       "╞═══════════════════╪═══════════════════╡\n",
       "│ 0.0               ┆ 335004.33         │\n",
       "└───────────────────┴───────────────────┘"
      ]
     },
     "execution_count": 16,
     "metadata": {},
     "output_type": "execute_result"
    }
   ],
   "source": [
    "(\n",
    "    df\n",
    "    .select([\n",
    "        pl.col('trip_distance').min().name.suffix('_min'),\n",
    "        pl.col('trip_distance').max().name.suffix('_max'),\n",
    "    ])\n",
    ")"
   ]
  },
  {
   "cell_type": "markdown",
   "id": "44b06600-df46-40de-8362-5ec68604008d",
   "metadata": {},
   "source": [
    "# Query Statement - **.filter()**"
   ]
  },
  {
   "cell_type": "code",
   "execution_count": 20,
   "id": "eb27a0a8-bc09-480f-b19f-9b0230ced601",
   "metadata": {},
   "outputs": [
    {
     "data": {
      "text/html": [
       "<div><style>\n",
       ".dataframe > thead > tr,\n",
       ".dataframe > tbody > tr {\n",
       "  text-align: right;\n",
       "  white-space: pre-wrap;\n",
       "}\n",
       "</style>\n",
       "<small>shape: (9, 20)</small><table border=\"1\" class=\"dataframe\"><thead><tr><th>statistic</th><th>VendorID</th><th>tpep_pickup_datetime</th><th>tpep_dropoff_datetime</th><th>passenger_count</th><th>trip_distance</th><th>RatecodeID</th><th>store_and_fwd_flag</th><th>PULocationID</th><th>DOLocationID</th><th>payment_type</th><th>fare_amount</th><th>extra</th><th>mta_tax</th><th>tip_amount</th><th>tolls_amount</th><th>improvement_surcharge</th><th>total_amount</th><th>congestion_surcharge</th><th>Airport_fee</th></tr><tr><td>str</td><td>f64</td><td>str</td><td>str</td><td>f64</td><td>f64</td><td>f64</td><td>str</td><td>f64</td><td>f64</td><td>f64</td><td>f64</td><td>f64</td><td>f64</td><td>f64</td><td>f64</td><td>f64</td><td>f64</td><td>f64</td><td>f64</td></tr></thead><tbody><tr><td>&quot;count&quot;</td><td>2.913955e6</td><td>&quot;2913955&quot;</td><td>&quot;2913955&quot;</td><td>2.837138e6</td><td>2.913955e6</td><td>2.837138e6</td><td>&quot;2837138&quot;</td><td>2.913955e6</td><td>2.913955e6</td><td>2.913955e6</td><td>2.913955e6</td><td>2.913955e6</td><td>2.913955e6</td><td>2.913955e6</td><td>2.913955e6</td><td>2.913955e6</td><td>2.913955e6</td><td>2.837138e6</td><td>2.837138e6</td></tr><tr><td>&quot;null_count&quot;</td><td>0.0</td><td>&quot;0&quot;</td><td>&quot;0&quot;</td><td>76817.0</td><td>0.0</td><td>76817.0</td><td>&quot;76817&quot;</td><td>0.0</td><td>0.0</td><td>0.0</td><td>0.0</td><td>0.0</td><td>0.0</td><td>0.0</td><td>0.0</td><td>0.0</td><td>0.0</td><td>76817.0</td><td>76817.0</td></tr><tr><td>&quot;mean&quot;</td><td>1.731282</td><td>&quot;2023-02-15 00:38:01.639923&quot;</td><td>&quot;2023-02-15 00:54:02.594501&quot;</td><td>1.352847</td><td>3.868058</td><td>1.514554</td><td>null</td><td>166.256973</td><td>164.231667</td><td>1.182896</td><td>18.220381</td><td>1.560472</td><td>0.487875</td><td>3.384825</td><td>0.511398</td><td>0.981305</td><td>26.898484</td><td>2.285299</td><td>0.096778</td></tr><tr><td>&quot;std&quot;</td><td>0.452495</td><td>null</td><td>null</td><td>0.889127</td><td>268.427268</td><td>6.633395</td><td>null</td><td>64.132296</td><td>69.754056</td><td>0.529722</td><td>17.498195</td><td>1.792708</td><td>0.100619</td><td>3.838069</td><td>2.024488</td><td>0.18731</td><td>21.841097</td><td>0.760908</td><td>0.338827</td></tr><tr><td>&quot;min&quot;</td><td>1.0</td><td>&quot;2008-12-31 23:05:06&quot;</td><td>&quot;2008-12-31 23:31:24&quot;</td><td>0.0</td><td>0.0</td><td>1.0</td><td>&quot;N&quot;</td><td>1.0</td><td>1.0</td><td>0.0</td><td>-754.05</td><td>-7.5</td><td>-0.5</td><td>-93.0</td><td>-57.0</td><td>-1.0</td><td>-757.55</td><td>-2.5</td><td>-1.25</td></tr><tr><td>&quot;25%&quot;</td><td>1.0</td><td>&quot;2023-02-08 08:43:14&quot;</td><td>&quot;2023-02-08 08:59:34&quot;</td><td>1.0</td><td>1.06</td><td>1.0</td><td>null</td><td>132.0</td><td>113.0</td><td>1.0</td><td>8.6</td><td>0.0</td><td>0.5</td><td>1.0</td><td>0.0</td><td>1.0</td><td>15.48</td><td>2.5</td><td>0.0</td></tr><tr><td>&quot;50%&quot;</td><td>2.0</td><td>&quot;2023-02-14 22:33:21&quot;</td><td>&quot;2023-02-14 22:48:15&quot;</td><td>1.0</td><td>1.79</td><td>1.0</td><td>null</td><td>162.0</td><td>162.0</td><td>1.0</td><td>12.8</td><td>1.0</td><td>0.5</td><td>2.8</td><td>0.0</td><td>1.0</td><td>20.2</td><td>2.5</td><td>0.0</td></tr><tr><td>&quot;75%&quot;</td><td>2.0</td><td>&quot;2023-02-22 08:34:18&quot;</td><td>&quot;2023-02-22 08:50:06&quot;</td><td>1.0</td><td>3.3</td><td>1.0</td><td>null</td><td>234.0</td><td>234.0</td><td>1.0</td><td>20.3</td><td>2.5</td><td>0.5</td><td>4.2</td><td>0.0</td><td>1.0</td><td>28.7</td><td>2.5</td><td>0.0</td></tr><tr><td>&quot;max&quot;</td><td>6.0</td><td>&quot;2023-03-07 13:01:28&quot;</td><td>&quot;2023-03-07 13:11:17&quot;</td><td>9.0</td><td>335004.33</td><td>99.0</td><td>&quot;Y&quot;</td><td>265.0</td><td>265.0</td><td>4.0</td><td>2203.1</td><td>20.8</td><td>4.0</td><td>482.9</td><td>109.9</td><td>1.0</td><td>2208.1</td><td>2.75</td><td>1.25</td></tr></tbody></table></div>"
      ],
      "text/plain": [
       "shape: (9, 20)\n",
       "┌────────────┬────────────┬──────────────┬──────────────┬───┬──────────────┬──────────────┬──────────────┬─────────────┐\n",
       "│ statistic  ┆ VendorID   ┆ tpep_pickup_ ┆ tpep_dropoff ┆ … ┆ improvement_ ┆ total_amount ┆ congestion_s ┆ Airport_fee │\n",
       "│ ---        ┆ ---        ┆ datetime     ┆ _datetime    ┆   ┆ surcharge    ┆ ---          ┆ urcharge     ┆ ---         │\n",
       "│ str        ┆ f64        ┆ ---          ┆ ---          ┆   ┆ ---          ┆ f64          ┆ ---          ┆ f64         │\n",
       "│            ┆            ┆ str          ┆ str          ┆   ┆ f64          ┆              ┆ f64          ┆             │\n",
       "╞════════════╪════════════╪══════════════╪══════════════╪═══╪══════════════╪══════════════╪══════════════╪═════════════╡\n",
       "│ count      ┆ 2.913955e6 ┆ 2913955      ┆ 2913955      ┆ … ┆ 2.913955e6   ┆ 2.913955e6   ┆ 2.837138e6   ┆ 2.837138e6  │\n",
       "│ null_count ┆ 0.0        ┆ 0            ┆ 0            ┆ … ┆ 0.0          ┆ 0.0          ┆ 76817.0      ┆ 76817.0     │\n",
       "│ mean       ┆ 1.731282   ┆ 2023-02-15   ┆ 2023-02-15   ┆ … ┆ 0.981305     ┆ 26.898484    ┆ 2.285299     ┆ 0.096778    │\n",
       "│            ┆            ┆ 00:38:01.639 ┆ 00:54:02.594 ┆   ┆              ┆              ┆              ┆             │\n",
       "│            ┆            ┆ 923          ┆ 501          ┆   ┆              ┆              ┆              ┆             │\n",
       "│ std        ┆ 0.452495   ┆ null         ┆ null         ┆ … ┆ 0.18731      ┆ 21.841097    ┆ 0.760908     ┆ 0.338827    │\n",
       "│ min        ┆ 1.0        ┆ 2008-12-31   ┆ 2008-12-31   ┆ … ┆ -1.0         ┆ -757.55      ┆ -2.5         ┆ -1.25       │\n",
       "│            ┆            ┆ 23:05:06     ┆ 23:31:24     ┆   ┆              ┆              ┆              ┆             │\n",
       "│ 25%        ┆ 1.0        ┆ 2023-02-08   ┆ 2023-02-08   ┆ … ┆ 1.0          ┆ 15.48        ┆ 2.5          ┆ 0.0         │\n",
       "│            ┆            ┆ 08:43:14     ┆ 08:59:34     ┆   ┆              ┆              ┆              ┆             │\n",
       "│ 50%        ┆ 2.0        ┆ 2023-02-14   ┆ 2023-02-14   ┆ … ┆ 1.0          ┆ 20.2         ┆ 2.5          ┆ 0.0         │\n",
       "│            ┆            ┆ 22:33:21     ┆ 22:48:15     ┆   ┆              ┆              ┆              ┆             │\n",
       "│ 75%        ┆ 2.0        ┆ 2023-02-22   ┆ 2023-02-22   ┆ … ┆ 1.0          ┆ 28.7         ┆ 2.5          ┆ 0.0         │\n",
       "│            ┆            ┆ 08:34:18     ┆ 08:50:06     ┆   ┆              ┆              ┆              ┆             │\n",
       "│ max        ┆ 6.0        ┆ 2023-03-07   ┆ 2023-03-07   ┆ … ┆ 1.0          ┆ 2208.1       ┆ 2.75         ┆ 1.25        │\n",
       "│            ┆            ┆ 13:01:28     ┆ 13:11:17     ┆   ┆              ┆              ┆              ┆             │\n",
       "└────────────┴────────────┴──────────────┴──────────────┴───┴──────────────┴──────────────┴──────────────┴─────────────┘"
      ]
     },
     "execution_count": 20,
     "metadata": {},
     "output_type": "execute_result"
    }
   ],
   "source": [
    "df.describe()"
   ]
  },
  {
   "cell_type": "code",
   "execution_count": 37,
   "id": "57fee448-b61d-4689-a976-11cd7e9c75a1",
   "metadata": {},
   "outputs": [
    {
     "name": "stdout",
     "output_type": "stream",
     "text": [
      "shape: (1, 1)\n",
      "┌─────────────────┐\n",
      "│ passenger_count │\n",
      "│ ---             │\n",
      "│ u32             │\n",
      "╞═════════════════╡\n",
      "│ 76817           │\n",
      "└─────────────────┘\n"
     ]
    },
    {
     "data": {
      "text/html": [
       "<div><style>\n",
       ".dataframe > thead > tr,\n",
       ".dataframe > tbody > tr {\n",
       "  text-align: right;\n",
       "  white-space: pre-wrap;\n",
       "}\n",
       "</style>\n",
       "<small>shape: (1, 3)</small><table border=\"1\" class=\"dataframe\"><thead><tr><th>cnt_without_null</th><th>total_cnt</th><th>another_way_to_calc_total_rows</th></tr><tr><td>u32</td><td>u32</td><td>u32</td></tr></thead><tbody><tr><td>2837138</td><td>2913955</td><td>2913955</td></tr></tbody></table></div>"
      ],
      "text/plain": [
       "shape: (1, 3)\n",
       "┌──────────────────┬───────────┬────────────────────────────────┐\n",
       "│ cnt_without_null ┆ total_cnt ┆ another_way_to_calc_total_rows │\n",
       "│ ---              ┆ ---       ┆ ---                            │\n",
       "│ u32              ┆ u32       ┆ u32                            │\n",
       "╞══════════════════╪═══════════╪════════════════════════════════╡\n",
       "│ 2837138          ┆ 2913955   ┆ 2913955                        │\n",
       "└──────────────────┴───────────┴────────────────────────────────┘"
      ]
     },
     "execution_count": 37,
     "metadata": {},
     "output_type": "execute_result"
    }
   ],
   "source": [
    "# total null values in passenger_count\n",
    "null_cnt = (\n",
    "    df\n",
    "    .select('passenger_count')\n",
    "    .null_count()\n",
    ")\n",
    "print(null_cnt)\n",
    "\n",
    "# not null vals, total vals, another way to calc total rows\n",
    "(\n",
    "    df\n",
    "    .select([\n",
    "        pl.col('passenger_count').count().alias('cnt_without_null'),\n",
    "        pl.col('passenger_count').len().alias('total_cnt'),\n",
    "        (pl.col('passenger_count').count() + null_cnt).alias('another_way_to_calc_total_rows')\n",
    "    ])\n",
    ")"
   ]
  },
  {
   "cell_type": "markdown",
   "id": "6bbba7ea-1a7e-4b83-b0fe-74db44f42e61",
   "metadata": {},
   "source": [
    "# Fraction of records having zero count passengers."
   ]
  },
  {
   "cell_type": "code",
   "execution_count": 41,
   "id": "263f6ba2-c385-472d-a9b2-160a8b2f0eb0",
   "metadata": {},
   "outputs": [
    {
     "data": {
      "text/html": [
       "<div><style>\n",
       ".dataframe > thead > tr,\n",
       ".dataframe > tbody > tr {\n",
       "  text-align: right;\n",
       "  white-space: pre-wrap;\n",
       "}\n",
       "</style>\n",
       "<small>shape: (1, 3)</small><table border=\"1\" class=\"dataframe\"><thead><tr><th>zero_passenger_count_sum</th><th>zero_passenger_count</th><th>percentage_of_zero_cnt_passengers</th></tr><tr><td>u32</td><td>u32</td><td>f64</td></tr></thead><tbody><tr><td>47277</td><td>2837138</td><td>1.666362</td></tr></tbody></table></div>"
      ],
      "text/plain": [
       "shape: (1, 3)\n",
       "┌──────────────────────────┬──────────────────────┬─────────────────────────────────┐\n",
       "│ zero_passenger_count_sum ┆ zero_passenger_count ┆ percentage_of_zero_cnt_passeng… │\n",
       "│ ---                      ┆ ---                  ┆ ---                             │\n",
       "│ u32                      ┆ u32                  ┆ f64                             │\n",
       "╞══════════════════════════╪══════════════════════╪═════════════════════════════════╡\n",
       "│ 47277                    ┆ 2837138              ┆ 1.666362                        │\n",
       "└──────────────────────────┴──────────────────────┴─────────────────────────────────┘"
      ]
     },
     "execution_count": 41,
     "metadata": {},
     "output_type": "execute_result"
    }
   ],
   "source": [
    "(\n",
    "    df\n",
    "    .select([\n",
    "        pl.col('passenger_count').eq(0).sum().alias('zero_passenger_count_sum'),\n",
    "        pl.col('passenger_count').count().alias('zero_passenger_count'),\n",
    "        ((pl.col('passenger_count').eq(0).sum() / pl.col('passenger_count').count()) * 100).alias('percentage_of_zero_cnt_passengers')\n",
    "    ])\n",
    ")"
   ]
  },
  {
   "cell_type": "markdown",
   "id": "3cebee8f-9e6a-4ab0-8a98-c7e59d2aa65a",
   "metadata": {},
   "source": [
    "# Filtering the passengers where passenger_count = 0"
   ]
  },
  {
   "cell_type": "code",
   "execution_count": 43,
   "id": "b6e8d83d-d500-402b-9ec9-fbecd7eed7c7",
   "metadata": {},
   "outputs": [
    {
     "data": {
      "text/html": [
       "<div><style>\n",
       ".dataframe > thead > tr,\n",
       ".dataframe > tbody > tr {\n",
       "  text-align: right;\n",
       "  white-space: pre-wrap;\n",
       "}\n",
       "</style>\n",
       "<small>shape: (2_789_861, 2)</small><table border=\"1\" class=\"dataframe\"><thead><tr><th>VendorID</th><th>passenger_count</th></tr><tr><td>i32</td><td>i64</td></tr></thead><tbody><tr><td>1</td><td>2</td></tr><tr><td>2</td><td>1</td></tr><tr><td>2</td><td>1</td></tr><tr><td>2</td><td>1</td></tr><tr><td>1</td><td>1</td></tr><tr><td>&hellip;</td><td>&hellip;</td></tr><tr><td>2</td><td>1</td></tr><tr><td>2</td><td>2</td></tr><tr><td>2</td><td>1</td></tr><tr><td>2</td><td>1</td></tr><tr><td>2</td><td>2</td></tr></tbody></table></div>"
      ],
      "text/plain": [
       "shape: (2_789_861, 2)\n",
       "┌──────────┬─────────────────┐\n",
       "│ VendorID ┆ passenger_count │\n",
       "│ ---      ┆ ---             │\n",
       "│ i32      ┆ i64             │\n",
       "╞══════════╪═════════════════╡\n",
       "│ 1        ┆ 2               │\n",
       "│ 2        ┆ 1               │\n",
       "│ 2        ┆ 1               │\n",
       "│ 2        ┆ 1               │\n",
       "│ 1        ┆ 1               │\n",
       "│ …        ┆ …               │\n",
       "│ 2        ┆ 1               │\n",
       "│ 2        ┆ 2               │\n",
       "│ 2        ┆ 1               │\n",
       "│ 2        ┆ 1               │\n",
       "│ 2        ┆ 2               │\n",
       "└──────────┴─────────────────┘"
      ]
     },
     "execution_count": 43,
     "metadata": {},
     "output_type": "execute_result"
    }
   ],
   "source": [
    "(\n",
    "    df\n",
    "    .filter(pl.col('passenger_count').gt(0)).\n",
    "    select([\n",
    "        'VendorID',\n",
    "        'passenger_count'\n",
    "    ])\n",
    ")"
   ]
  },
  {
   "cell_type": "markdown",
   "id": "e8dadc7a-0577-4492-acf0-20506baf254b",
   "metadata": {},
   "source": [
    "# Using Conditional Operators using **.filter()**\n",
    "- & and |\n",
    "- and_() & or_()"
   ]
  },
  {
   "cell_type": "code",
   "execution_count": 44,
   "id": "ef002d47-c16c-40b9-bf52-134615de1536",
   "metadata": {},
   "outputs": [
    {
     "data": {
      "text/html": [
       "<div><style>\n",
       ".dataframe > thead > tr,\n",
       ".dataframe > tbody > tr {\n",
       "  text-align: right;\n",
       "  white-space: pre-wrap;\n",
       "}\n",
       "</style>\n",
       "<small>shape: (1, 19)</small><table border=\"1\" class=\"dataframe\"><thead><tr><th>VendorID</th><th>tpep_pickup_datetime</th><th>tpep_dropoff_datetime</th><th>passenger_count</th><th>trip_distance</th><th>RatecodeID</th><th>store_and_fwd_flag</th><th>PULocationID</th><th>DOLocationID</th><th>payment_type</th><th>fare_amount</th><th>extra</th><th>mta_tax</th><th>tip_amount</th><th>tolls_amount</th><th>improvement_surcharge</th><th>total_amount</th><th>congestion_surcharge</th><th>Airport_fee</th></tr><tr><td>i32</td><td>datetime[ns]</td><td>datetime[ns]</td><td>i64</td><td>f64</td><td>i64</td><td>str</td><td>i32</td><td>i32</td><td>i64</td><td>f64</td><td>f64</td><td>f64</td><td>f64</td><td>f64</td><td>f64</td><td>f64</td><td>f64</td><td>f64</td></tr></thead><tbody><tr><td>2</td><td>2023-02-11 00:00:54</td><td>2023-02-11 02:08:12</td><td>4</td><td>107.49</td><td>5</td><td>&quot;N&quot;</td><td>132</td><td>265</td><td>2</td><td>400.0</td><td>0.0</td><td>0.0</td><td>0.0</td><td>0.0</td><td>1.0</td><td>402.25</td><td>0.0</td><td>1.25</td></tr></tbody></table></div>"
      ],
      "text/plain": [
       "shape: (1, 19)\n",
       "┌──────────┬──────────────┬──────────────┬──────────────┬───┬──────────────┬──────────────┬──────────────┬─────────────┐\n",
       "│ VendorID ┆ tpep_pickup_ ┆ tpep_dropoff ┆ passenger_co ┆ … ┆ improvement_ ┆ total_amount ┆ congestion_s ┆ Airport_fee │\n",
       "│ ---      ┆ datetime     ┆ _datetime    ┆ unt          ┆   ┆ surcharge    ┆ ---          ┆ urcharge     ┆ ---         │\n",
       "│ i32      ┆ ---          ┆ ---          ┆ ---          ┆   ┆ ---          ┆ f64          ┆ ---          ┆ f64         │\n",
       "│          ┆ datetime[ns] ┆ datetime[ns] ┆ i64          ┆   ┆ f64          ┆              ┆ f64          ┆             │\n",
       "╞══════════╪══════════════╪══════════════╪══════════════╪═══╪══════════════╪══════════════╪══════════════╪═════════════╡\n",
       "│ 2        ┆ 2023-02-11   ┆ 2023-02-11   ┆ 4            ┆ … ┆ 1.0          ┆ 402.25       ┆ 0.0          ┆ 1.25        │\n",
       "│          ┆ 00:00:54     ┆ 02:08:12     ┆              ┆   ┆              ┆              ┆              ┆             │\n",
       "└──────────┴──────────────┴──────────────┴──────────────┴───┴──────────────┴──────────────┴──────────────┴─────────────┘"
      ]
     },
     "execution_count": 44,
     "metadata": {},
     "output_type": "execute_result"
    }
   ],
   "source": [
    "(\n",
    "    df\n",
    "    .filter(\n",
    "        pl.col('passenger_count').gt(3) &\n",
    "        pl.col('trip_distance').gt(100)\n",
    "    )\n",
    ")"
   ]
  },
  {
   "cell_type": "code",
   "execution_count": 45,
   "id": "c441cb1f-4c45-4a3f-b7c1-ebe02027f79a",
   "metadata": {},
   "outputs": [
    {
     "data": {
      "text/html": [
       "<div><style>\n",
       ".dataframe > thead > tr,\n",
       ".dataframe > tbody > tr {\n",
       "  text-align: right;\n",
       "  white-space: pre-wrap;\n",
       "}\n",
       "</style>\n",
       "<small>shape: (115_024, 19)</small><table border=\"1\" class=\"dataframe\"><thead><tr><th>VendorID</th><th>tpep_pickup_datetime</th><th>tpep_dropoff_datetime</th><th>passenger_count</th><th>trip_distance</th><th>RatecodeID</th><th>store_and_fwd_flag</th><th>PULocationID</th><th>DOLocationID</th><th>payment_type</th><th>fare_amount</th><th>extra</th><th>mta_tax</th><th>tip_amount</th><th>tolls_amount</th><th>improvement_surcharge</th><th>total_amount</th><th>congestion_surcharge</th><th>Airport_fee</th></tr><tr><td>i32</td><td>datetime[ns]</td><td>datetime[ns]</td><td>i64</td><td>f64</td><td>i64</td><td>str</td><td>i32</td><td>i32</td><td>i64</td><td>f64</td><td>f64</td><td>f64</td><td>f64</td><td>f64</td><td>f64</td><td>f64</td><td>f64</td><td>f64</td></tr></thead><tbody><tr><td>2</td><td>2023-02-01 00:06:00</td><td>2023-02-01 00:10:31</td><td>5</td><td>1.03</td><td>1</td><td>&quot;N&quot;</td><td>249</td><td>90</td><td>1</td><td>7.2</td><td>1.0</td><td>0.5</td><td>3.05</td><td>0.0</td><td>1.0</td><td>15.25</td><td>2.5</td><td>0.0</td></tr><tr><td>2</td><td>2023-02-01 00:31:02</td><td>2023-02-01 00:41:26</td><td>5</td><td>2.06</td><td>1</td><td>&quot;N&quot;</td><td>234</td><td>4</td><td>1</td><td>12.1</td><td>1.0</td><td>0.5</td><td>3.42</td><td>0.0</td><td>1.0</td><td>20.52</td><td>2.5</td><td>0.0</td></tr><tr><td>2</td><td>2023-02-01 00:47:56</td><td>2023-02-01 00:53:02</td><td>5</td><td>0.93</td><td>1</td><td>&quot;N&quot;</td><td>114</td><td>125</td><td>1</td><td>7.2</td><td>1.0</td><td>0.5</td><td>0.0</td><td>0.0</td><td>1.0</td><td>12.2</td><td>2.5</td><td>0.0</td></tr><tr><td>2</td><td>2023-02-01 00:03:51</td><td>2023-02-01 00:04:11</td><td>4</td><td>0.0</td><td>5</td><td>&quot;N&quot;</td><td>22</td><td>22</td><td>1</td><td>55.0</td><td>0.0</td><td>0.0</td><td>5.0</td><td>0.0</td><td>1.0</td><td>61.0</td><td>0.0</td><td>0.0</td></tr><tr><td>2</td><td>2023-02-01 00:47:14</td><td>2023-02-01 00:57:18</td><td>4</td><td>1.8</td><td>1</td><td>&quot;N&quot;</td><td>237</td><td>229</td><td>2</td><td>12.1</td><td>1.0</td><td>0.5</td><td>0.0</td><td>0.0</td><td>1.0</td><td>17.1</td><td>2.5</td><td>0.0</td></tr><tr><td>&hellip;</td><td>&hellip;</td><td>&hellip;</td><td>&hellip;</td><td>&hellip;</td><td>&hellip;</td><td>&hellip;</td><td>&hellip;</td><td>&hellip;</td><td>&hellip;</td><td>&hellip;</td><td>&hellip;</td><td>&hellip;</td><td>&hellip;</td><td>&hellip;</td><td>&hellip;</td><td>&hellip;</td><td>&hellip;</td><td>&hellip;</td></tr><tr><td>2</td><td>2023-02-25 12:02:00</td><td>2023-02-25 12:23:00</td><td>null</td><td>14429.87</td><td>null</td><td>null</td><td>261</td><td>230</td><td>0</td><td>27.74</td><td>0.0</td><td>0.5</td><td>6.35</td><td>0.0</td><td>1.0</td><td>38.09</td><td>null</td><td>null</td></tr><tr><td>2</td><td>2023-02-26 00:33:00</td><td>2023-02-26 00:42:00</td><td>null</td><td>14235.91</td><td>null</td><td>null</td><td>137</td><td>90</td><td>0</td><td>13.91</td><td>0.0</td><td>0.5</td><td>2.59</td><td>0.0</td><td>1.0</td><td>20.5</td><td>null</td><td>null</td></tr><tr><td>2</td><td>2023-02-27 20:04:00</td><td>2023-02-27 20:50:00</td><td>null</td><td>6356.98</td><td>null</td><td>null</td><td>68</td><td>226</td><td>0</td><td>27.05</td><td>0.0</td><td>0.5</td><td>6.21</td><td>0.0</td><td>1.0</td><td>37.26</td><td>null</td><td>null</td></tr><tr><td>2</td><td>2023-02-28 09:30:00</td><td>2023-02-28 09:42:00</td><td>null</td><td>12291.9</td><td>null</td><td>null</td><td>233</td><td>193</td><td>0</td><td>16.25</td><td>0.0</td><td>0.5</td><td>2.68</td><td>6.55</td><td>1.0</td><td>29.48</td><td>null</td><td>null</td></tr><tr><td>2</td><td>2023-02-28 13:44:00</td><td>2023-02-28 13:53:00</td><td>null</td><td>12938.0</td><td>null</td><td>null</td><td>263</td><td>229</td><td>0</td><td>12.98</td><td>0.0</td><td>0.5</td><td>3.4</td><td>0.0</td><td>1.0</td><td>20.38</td><td>null</td><td>null</td></tr></tbody></table></div>"
      ],
      "text/plain": [
       "shape: (115_024, 19)\n",
       "┌──────────┬──────────────┬──────────────┬──────────────┬───┬──────────────┬──────────────┬──────────────┬─────────────┐\n",
       "│ VendorID ┆ tpep_pickup_ ┆ tpep_dropoff ┆ passenger_co ┆ … ┆ improvement_ ┆ total_amount ┆ congestion_s ┆ Airport_fee │\n",
       "│ ---      ┆ datetime     ┆ _datetime    ┆ unt          ┆   ┆ surcharge    ┆ ---          ┆ urcharge     ┆ ---         │\n",
       "│ i32      ┆ ---          ┆ ---          ┆ ---          ┆   ┆ ---          ┆ f64          ┆ ---          ┆ f64         │\n",
       "│          ┆ datetime[ns] ┆ datetime[ns] ┆ i64          ┆   ┆ f64          ┆              ┆ f64          ┆             │\n",
       "╞══════════╪══════════════╪══════════════╪══════════════╪═══╪══════════════╪══════════════╪══════════════╪═════════════╡\n",
       "│ 2        ┆ 2023-02-01   ┆ 2023-02-01   ┆ 5            ┆ … ┆ 1.0          ┆ 15.25        ┆ 2.5          ┆ 0.0         │\n",
       "│          ┆ 00:06:00     ┆ 00:10:31     ┆              ┆   ┆              ┆              ┆              ┆             │\n",
       "│ 2        ┆ 2023-02-01   ┆ 2023-02-01   ┆ 5            ┆ … ┆ 1.0          ┆ 20.52        ┆ 2.5          ┆ 0.0         │\n",
       "│          ┆ 00:31:02     ┆ 00:41:26     ┆              ┆   ┆              ┆              ┆              ┆             │\n",
       "│ 2        ┆ 2023-02-01   ┆ 2023-02-01   ┆ 5            ┆ … ┆ 1.0          ┆ 12.2         ┆ 2.5          ┆ 0.0         │\n",
       "│          ┆ 00:47:56     ┆ 00:53:02     ┆              ┆   ┆              ┆              ┆              ┆             │\n",
       "│ 2        ┆ 2023-02-01   ┆ 2023-02-01   ┆ 4            ┆ … ┆ 1.0          ┆ 61.0         ┆ 0.0          ┆ 0.0         │\n",
       "│          ┆ 00:03:51     ┆ 00:04:11     ┆              ┆   ┆              ┆              ┆              ┆             │\n",
       "│ 2        ┆ 2023-02-01   ┆ 2023-02-01   ┆ 4            ┆ … ┆ 1.0          ┆ 17.1         ┆ 2.5          ┆ 0.0         │\n",
       "│          ┆ 00:47:14     ┆ 00:57:18     ┆              ┆   ┆              ┆              ┆              ┆             │\n",
       "│ …        ┆ …            ┆ …            ┆ …            ┆ … ┆ …            ┆ …            ┆ …            ┆ …           │\n",
       "│ 2        ┆ 2023-02-25   ┆ 2023-02-25   ┆ null         ┆ … ┆ 1.0          ┆ 38.09        ┆ null         ┆ null        │\n",
       "│          ┆ 12:02:00     ┆ 12:23:00     ┆              ┆   ┆              ┆              ┆              ┆             │\n",
       "│ 2        ┆ 2023-02-26   ┆ 2023-02-26   ┆ null         ┆ … ┆ 1.0          ┆ 20.5         ┆ null         ┆ null        │\n",
       "│          ┆ 00:33:00     ┆ 00:42:00     ┆              ┆   ┆              ┆              ┆              ┆             │\n",
       "│ 2        ┆ 2023-02-27   ┆ 2023-02-27   ┆ null         ┆ … ┆ 1.0          ┆ 37.26        ┆ null         ┆ null        │\n",
       "│          ┆ 20:04:00     ┆ 20:50:00     ┆              ┆   ┆              ┆              ┆              ┆             │\n",
       "│ 2        ┆ 2023-02-28   ┆ 2023-02-28   ┆ null         ┆ … ┆ 1.0          ┆ 29.48        ┆ null         ┆ null        │\n",
       "│          ┆ 09:30:00     ┆ 09:42:00     ┆              ┆   ┆              ┆              ┆              ┆             │\n",
       "│ 2        ┆ 2023-02-28   ┆ 2023-02-28   ┆ null         ┆ … ┆ 1.0          ┆ 20.38        ┆ null         ┆ null        │\n",
       "│          ┆ 13:44:00     ┆ 13:53:00     ┆              ┆   ┆              ┆              ┆              ┆             │\n",
       "└──────────┴──────────────┴──────────────┴──────────────┴───┴──────────────┴──────────────┴──────────────┴─────────────┘"
      ]
     },
     "execution_count": 45,
     "metadata": {},
     "output_type": "execute_result"
    }
   ],
   "source": [
    "(\n",
    "    df\n",
    "    .filter(\n",
    "        pl.col('passenger_count').gt(3) |\n",
    "        pl.col('trip_distance').gt(100)\n",
    "    )\n",
    "    \n",
    ")"
   ]
  },
  {
   "cell_type": "code",
   "execution_count": 48,
   "id": "2f8eb7bc-09b7-45bb-9703-f71972b8ddef",
   "metadata": {},
   "outputs": [
    {
     "data": {
      "text/html": [
       "<div><style>\n",
       ".dataframe > thead > tr,\n",
       ".dataframe > tbody > tr {\n",
       "  text-align: right;\n",
       "  white-space: pre-wrap;\n",
       "}\n",
       "</style>\n",
       "<small>shape: (1, 19)</small><table border=\"1\" class=\"dataframe\"><thead><tr><th>VendorID</th><th>tpep_pickup_datetime</th><th>tpep_dropoff_datetime</th><th>passenger_count</th><th>trip_distance</th><th>RatecodeID</th><th>store_and_fwd_flag</th><th>PULocationID</th><th>DOLocationID</th><th>payment_type</th><th>fare_amount</th><th>extra</th><th>mta_tax</th><th>tip_amount</th><th>tolls_amount</th><th>improvement_surcharge</th><th>total_amount</th><th>congestion_surcharge</th><th>Airport_fee</th></tr><tr><td>i32</td><td>datetime[ns]</td><td>datetime[ns]</td><td>i64</td><td>f64</td><td>i64</td><td>str</td><td>i32</td><td>i32</td><td>i64</td><td>f64</td><td>f64</td><td>f64</td><td>f64</td><td>f64</td><td>f64</td><td>f64</td><td>f64</td><td>f64</td></tr></thead><tbody><tr><td>2</td><td>2023-02-11 00:00:54</td><td>2023-02-11 02:08:12</td><td>4</td><td>107.49</td><td>5</td><td>&quot;N&quot;</td><td>132</td><td>265</td><td>2</td><td>400.0</td><td>0.0</td><td>0.0</td><td>0.0</td><td>0.0</td><td>1.0</td><td>402.25</td><td>0.0</td><td>1.25</td></tr></tbody></table></div>"
      ],
      "text/plain": [
       "shape: (1, 19)\n",
       "┌──────────┬──────────────┬──────────────┬──────────────┬───┬──────────────┬──────────────┬──────────────┬─────────────┐\n",
       "│ VendorID ┆ tpep_pickup_ ┆ tpep_dropoff ┆ passenger_co ┆ … ┆ improvement_ ┆ total_amount ┆ congestion_s ┆ Airport_fee │\n",
       "│ ---      ┆ datetime     ┆ _datetime    ┆ unt          ┆   ┆ surcharge    ┆ ---          ┆ urcharge     ┆ ---         │\n",
       "│ i32      ┆ ---          ┆ ---          ┆ ---          ┆   ┆ ---          ┆ f64          ┆ ---          ┆ f64         │\n",
       "│          ┆ datetime[ns] ┆ datetime[ns] ┆ i64          ┆   ┆ f64          ┆              ┆ f64          ┆             │\n",
       "╞══════════╪══════════════╪══════════════╪══════════════╪═══╪══════════════╪══════════════╪══════════════╪═════════════╡\n",
       "│ 2        ┆ 2023-02-11   ┆ 2023-02-11   ┆ 4            ┆ … ┆ 1.0          ┆ 402.25       ┆ 0.0          ┆ 1.25        │\n",
       "│          ┆ 00:00:54     ┆ 02:08:12     ┆              ┆   ┆              ┆              ┆              ┆             │\n",
       "└──────────┴──────────────┴──────────────┴──────────────┴───┴──────────────┴──────────────┴──────────────┴─────────────┘"
      ]
     },
     "execution_count": 48,
     "metadata": {},
     "output_type": "execute_result"
    }
   ],
   "source": [
    "(\n",
    "    df\n",
    "    .filter(\n",
    "        pl.col('passenger_count').gt(3) \n",
    "        .and_(pl.col('trip_distance').gt(100))\n",
    "    )\n",
    ")"
   ]
  },
  {
   "cell_type": "code",
   "execution_count": 49,
   "id": "f353efdf-ebea-484f-b192-7a3b54d9c0cd",
   "metadata": {},
   "outputs": [
    {
     "data": {
      "text/html": [
       "<div><style>\n",
       ".dataframe > thead > tr,\n",
       ".dataframe > tbody > tr {\n",
       "  text-align: right;\n",
       "  white-space: pre-wrap;\n",
       "}\n",
       "</style>\n",
       "<small>shape: (115_024, 19)</small><table border=\"1\" class=\"dataframe\"><thead><tr><th>VendorID</th><th>tpep_pickup_datetime</th><th>tpep_dropoff_datetime</th><th>passenger_count</th><th>trip_distance</th><th>RatecodeID</th><th>store_and_fwd_flag</th><th>PULocationID</th><th>DOLocationID</th><th>payment_type</th><th>fare_amount</th><th>extra</th><th>mta_tax</th><th>tip_amount</th><th>tolls_amount</th><th>improvement_surcharge</th><th>total_amount</th><th>congestion_surcharge</th><th>Airport_fee</th></tr><tr><td>i32</td><td>datetime[ns]</td><td>datetime[ns]</td><td>i64</td><td>f64</td><td>i64</td><td>str</td><td>i32</td><td>i32</td><td>i64</td><td>f64</td><td>f64</td><td>f64</td><td>f64</td><td>f64</td><td>f64</td><td>f64</td><td>f64</td><td>f64</td></tr></thead><tbody><tr><td>2</td><td>2023-02-01 00:06:00</td><td>2023-02-01 00:10:31</td><td>5</td><td>1.03</td><td>1</td><td>&quot;N&quot;</td><td>249</td><td>90</td><td>1</td><td>7.2</td><td>1.0</td><td>0.5</td><td>3.05</td><td>0.0</td><td>1.0</td><td>15.25</td><td>2.5</td><td>0.0</td></tr><tr><td>2</td><td>2023-02-01 00:31:02</td><td>2023-02-01 00:41:26</td><td>5</td><td>2.06</td><td>1</td><td>&quot;N&quot;</td><td>234</td><td>4</td><td>1</td><td>12.1</td><td>1.0</td><td>0.5</td><td>3.42</td><td>0.0</td><td>1.0</td><td>20.52</td><td>2.5</td><td>0.0</td></tr><tr><td>2</td><td>2023-02-01 00:47:56</td><td>2023-02-01 00:53:02</td><td>5</td><td>0.93</td><td>1</td><td>&quot;N&quot;</td><td>114</td><td>125</td><td>1</td><td>7.2</td><td>1.0</td><td>0.5</td><td>0.0</td><td>0.0</td><td>1.0</td><td>12.2</td><td>2.5</td><td>0.0</td></tr><tr><td>2</td><td>2023-02-01 00:03:51</td><td>2023-02-01 00:04:11</td><td>4</td><td>0.0</td><td>5</td><td>&quot;N&quot;</td><td>22</td><td>22</td><td>1</td><td>55.0</td><td>0.0</td><td>0.0</td><td>5.0</td><td>0.0</td><td>1.0</td><td>61.0</td><td>0.0</td><td>0.0</td></tr><tr><td>2</td><td>2023-02-01 00:47:14</td><td>2023-02-01 00:57:18</td><td>4</td><td>1.8</td><td>1</td><td>&quot;N&quot;</td><td>237</td><td>229</td><td>2</td><td>12.1</td><td>1.0</td><td>0.5</td><td>0.0</td><td>0.0</td><td>1.0</td><td>17.1</td><td>2.5</td><td>0.0</td></tr><tr><td>&hellip;</td><td>&hellip;</td><td>&hellip;</td><td>&hellip;</td><td>&hellip;</td><td>&hellip;</td><td>&hellip;</td><td>&hellip;</td><td>&hellip;</td><td>&hellip;</td><td>&hellip;</td><td>&hellip;</td><td>&hellip;</td><td>&hellip;</td><td>&hellip;</td><td>&hellip;</td><td>&hellip;</td><td>&hellip;</td><td>&hellip;</td></tr><tr><td>2</td><td>2023-02-25 12:02:00</td><td>2023-02-25 12:23:00</td><td>null</td><td>14429.87</td><td>null</td><td>null</td><td>261</td><td>230</td><td>0</td><td>27.74</td><td>0.0</td><td>0.5</td><td>6.35</td><td>0.0</td><td>1.0</td><td>38.09</td><td>null</td><td>null</td></tr><tr><td>2</td><td>2023-02-26 00:33:00</td><td>2023-02-26 00:42:00</td><td>null</td><td>14235.91</td><td>null</td><td>null</td><td>137</td><td>90</td><td>0</td><td>13.91</td><td>0.0</td><td>0.5</td><td>2.59</td><td>0.0</td><td>1.0</td><td>20.5</td><td>null</td><td>null</td></tr><tr><td>2</td><td>2023-02-27 20:04:00</td><td>2023-02-27 20:50:00</td><td>null</td><td>6356.98</td><td>null</td><td>null</td><td>68</td><td>226</td><td>0</td><td>27.05</td><td>0.0</td><td>0.5</td><td>6.21</td><td>0.0</td><td>1.0</td><td>37.26</td><td>null</td><td>null</td></tr><tr><td>2</td><td>2023-02-28 09:30:00</td><td>2023-02-28 09:42:00</td><td>null</td><td>12291.9</td><td>null</td><td>null</td><td>233</td><td>193</td><td>0</td><td>16.25</td><td>0.0</td><td>0.5</td><td>2.68</td><td>6.55</td><td>1.0</td><td>29.48</td><td>null</td><td>null</td></tr><tr><td>2</td><td>2023-02-28 13:44:00</td><td>2023-02-28 13:53:00</td><td>null</td><td>12938.0</td><td>null</td><td>null</td><td>263</td><td>229</td><td>0</td><td>12.98</td><td>0.0</td><td>0.5</td><td>3.4</td><td>0.0</td><td>1.0</td><td>20.38</td><td>null</td><td>null</td></tr></tbody></table></div>"
      ],
      "text/plain": [
       "shape: (115_024, 19)\n",
       "┌──────────┬──────────────┬──────────────┬──────────────┬───┬──────────────┬──────────────┬──────────────┬─────────────┐\n",
       "│ VendorID ┆ tpep_pickup_ ┆ tpep_dropoff ┆ passenger_co ┆ … ┆ improvement_ ┆ total_amount ┆ congestion_s ┆ Airport_fee │\n",
       "│ ---      ┆ datetime     ┆ _datetime    ┆ unt          ┆   ┆ surcharge    ┆ ---          ┆ urcharge     ┆ ---         │\n",
       "│ i32      ┆ ---          ┆ ---          ┆ ---          ┆   ┆ ---          ┆ f64          ┆ ---          ┆ f64         │\n",
       "│          ┆ datetime[ns] ┆ datetime[ns] ┆ i64          ┆   ┆ f64          ┆              ┆ f64          ┆             │\n",
       "╞══════════╪══════════════╪══════════════╪══════════════╪═══╪══════════════╪══════════════╪══════════════╪═════════════╡\n",
       "│ 2        ┆ 2023-02-01   ┆ 2023-02-01   ┆ 5            ┆ … ┆ 1.0          ┆ 15.25        ┆ 2.5          ┆ 0.0         │\n",
       "│          ┆ 00:06:00     ┆ 00:10:31     ┆              ┆   ┆              ┆              ┆              ┆             │\n",
       "│ 2        ┆ 2023-02-01   ┆ 2023-02-01   ┆ 5            ┆ … ┆ 1.0          ┆ 20.52        ┆ 2.5          ┆ 0.0         │\n",
       "│          ┆ 00:31:02     ┆ 00:41:26     ┆              ┆   ┆              ┆              ┆              ┆             │\n",
       "│ 2        ┆ 2023-02-01   ┆ 2023-02-01   ┆ 5            ┆ … ┆ 1.0          ┆ 12.2         ┆ 2.5          ┆ 0.0         │\n",
       "│          ┆ 00:47:56     ┆ 00:53:02     ┆              ┆   ┆              ┆              ┆              ┆             │\n",
       "│ 2        ┆ 2023-02-01   ┆ 2023-02-01   ┆ 4            ┆ … ┆ 1.0          ┆ 61.0         ┆ 0.0          ┆ 0.0         │\n",
       "│          ┆ 00:03:51     ┆ 00:04:11     ┆              ┆   ┆              ┆              ┆              ┆             │\n",
       "│ 2        ┆ 2023-02-01   ┆ 2023-02-01   ┆ 4            ┆ … ┆ 1.0          ┆ 17.1         ┆ 2.5          ┆ 0.0         │\n",
       "│          ┆ 00:47:14     ┆ 00:57:18     ┆              ┆   ┆              ┆              ┆              ┆             │\n",
       "│ …        ┆ …            ┆ …            ┆ …            ┆ … ┆ …            ┆ …            ┆ …            ┆ …           │\n",
       "│ 2        ┆ 2023-02-25   ┆ 2023-02-25   ┆ null         ┆ … ┆ 1.0          ┆ 38.09        ┆ null         ┆ null        │\n",
       "│          ┆ 12:02:00     ┆ 12:23:00     ┆              ┆   ┆              ┆              ┆              ┆             │\n",
       "│ 2        ┆ 2023-02-26   ┆ 2023-02-26   ┆ null         ┆ … ┆ 1.0          ┆ 20.5         ┆ null         ┆ null        │\n",
       "│          ┆ 00:33:00     ┆ 00:42:00     ┆              ┆   ┆              ┆              ┆              ┆             │\n",
       "│ 2        ┆ 2023-02-27   ┆ 2023-02-27   ┆ null         ┆ … ┆ 1.0          ┆ 37.26        ┆ null         ┆ null        │\n",
       "│          ┆ 20:04:00     ┆ 20:50:00     ┆              ┆   ┆              ┆              ┆              ┆             │\n",
       "│ 2        ┆ 2023-02-28   ┆ 2023-02-28   ┆ null         ┆ … ┆ 1.0          ┆ 29.48        ┆ null         ┆ null        │\n",
       "│          ┆ 09:30:00     ┆ 09:42:00     ┆              ┆   ┆              ┆              ┆              ┆             │\n",
       "│ 2        ┆ 2023-02-28   ┆ 2023-02-28   ┆ null         ┆ … ┆ 1.0          ┆ 20.38        ┆ null         ┆ null        │\n",
       "│          ┆ 13:44:00     ┆ 13:53:00     ┆              ┆   ┆              ┆              ┆              ┆             │\n",
       "└──────────┴──────────────┴──────────────┴──────────────┴───┴──────────────┴──────────────┴──────────────┴─────────────┘"
      ]
     },
     "execution_count": 49,
     "metadata": {},
     "output_type": "execute_result"
    }
   ],
   "source": [
    "(\n",
    "    df\n",
    "    .filter(\n",
    "        pl.col('passenger_count').gt(3) \n",
    "        .or_(pl.col('trip_distance').gt(100))\n",
    "    )\n",
    ")"
   ]
  },
  {
   "cell_type": "markdown",
   "id": "62de4bcf-1804-4f14-afea-2f944cb92bb8",
   "metadata": {},
   "source": [
    "# Query Statement - **sort()**"
   ]
  },
  {
   "cell_type": "code",
   "execution_count": 50,
   "id": "5acf0142-1d97-42ef-b2c5-8a0fb9877b4f",
   "metadata": {},
   "outputs": [
    {
     "data": {
      "text/html": [
       "<div><style>\n",
       ".dataframe > thead > tr,\n",
       ".dataframe > tbody > tr {\n",
       "  text-align: right;\n",
       "  white-space: pre-wrap;\n",
       "}\n",
       "</style>\n",
       "<small>shape: (2_913_955, 2)</small><table border=\"1\" class=\"dataframe\"><thead><tr><th>trip_distance</th><th>fare_amount</th></tr><tr><td>f64</td><td>f64</td></tr></thead><tbody><tr><td>335004.33</td><td>17.75</td></tr><tr><td>182444.33</td><td>12.6</td></tr><tr><td>143926.36</td><td>105.99</td></tr><tr><td>107564.66</td><td>24.9</td></tr><tr><td>97746.76</td><td>19.95</td></tr><tr><td>&hellip;</td><td>&hellip;</td></tr><tr><td>0.0</td><td>6.83</td></tr><tr><td>0.0</td><td>13.64</td></tr><tr><td>0.0</td><td>9.76</td></tr><tr><td>0.0</td><td>16.52</td></tr><tr><td>0.0</td><td>16.93</td></tr></tbody></table></div>"
      ],
      "text/plain": [
       "shape: (2_913_955, 2)\n",
       "┌───────────────┬─────────────┐\n",
       "│ trip_distance ┆ fare_amount │\n",
       "│ ---           ┆ ---         │\n",
       "│ f64           ┆ f64         │\n",
       "╞═══════════════╪═════════════╡\n",
       "│ 335004.33     ┆ 17.75       │\n",
       "│ 182444.33     ┆ 12.6        │\n",
       "│ 143926.36     ┆ 105.99      │\n",
       "│ 107564.66     ┆ 24.9        │\n",
       "│ 97746.76      ┆ 19.95       │\n",
       "│ …             ┆ …           │\n",
       "│ 0.0           ┆ 6.83        │\n",
       "│ 0.0           ┆ 13.64       │\n",
       "│ 0.0           ┆ 9.76        │\n",
       "│ 0.0           ┆ 16.52       │\n",
       "│ 0.0           ┆ 16.93       │\n",
       "└───────────────┴─────────────┘"
      ]
     },
     "execution_count": 50,
     "metadata": {},
     "output_type": "execute_result"
    }
   ],
   "source": [
    "(\n",
    "    df\n",
    "    .select([\n",
    "        'trip_distance',\n",
    "        'fare_amount'\n",
    "    ])\n",
    "    .sort('trip_distance',descending=True)\n",
    ")"
   ]
  },
  {
   "cell_type": "markdown",
   "id": "7b7af200-7b5d-46df-999a-2336a42a11ec",
   "metadata": {},
   "source": [
    "# sort() + filter()"
   ]
  },
  {
   "cell_type": "code",
   "execution_count": 51,
   "id": "c717cc78-3ede-4658-a0a8-69834fdc8e72",
   "metadata": {},
   "outputs": [
    {
     "data": {
      "text/html": [
       "<div><style>\n",
       ".dataframe > thead > tr,\n",
       ".dataframe > tbody > tr {\n",
       "  text-align: right;\n",
       "  white-space: pre-wrap;\n",
       "}\n",
       "</style>\n",
       "<small>shape: (2_872_857, 2)</small><table border=\"1\" class=\"dataframe\"><thead><tr><th>trip_distance</th><th>fare_amount</th></tr><tr><td>f64</td><td>f64</td></tr></thead><tbody><tr><td>335004.33</td><td>17.75</td></tr><tr><td>182444.33</td><td>12.6</td></tr><tr><td>143926.36</td><td>105.99</td></tr><tr><td>107564.66</td><td>24.9</td></tr><tr><td>97746.76</td><td>19.95</td></tr><tr><td>&hellip;</td><td>&hellip;</td></tr><tr><td>0.01</td><td>14.21</td></tr><tr><td>0.01</td><td>12.9</td></tr><tr><td>0.01</td><td>22.78</td></tr><tr><td>0.01</td><td>33.33</td></tr><tr><td>0.01</td><td>-23.63</td></tr></tbody></table></div>"
      ],
      "text/plain": [
       "shape: (2_872_857, 2)\n",
       "┌───────────────┬─────────────┐\n",
       "│ trip_distance ┆ fare_amount │\n",
       "│ ---           ┆ ---         │\n",
       "│ f64           ┆ f64         │\n",
       "╞═══════════════╪═════════════╡\n",
       "│ 335004.33     ┆ 17.75       │\n",
       "│ 182444.33     ┆ 12.6        │\n",
       "│ 143926.36     ┆ 105.99      │\n",
       "│ 107564.66     ┆ 24.9        │\n",
       "│ 97746.76      ┆ 19.95       │\n",
       "│ …             ┆ …           │\n",
       "│ 0.01          ┆ 14.21       │\n",
       "│ 0.01          ┆ 12.9        │\n",
       "│ 0.01          ┆ 22.78       │\n",
       "│ 0.01          ┆ 33.33       │\n",
       "│ 0.01          ┆ -23.63      │\n",
       "└───────────────┴─────────────┘"
      ]
     },
     "execution_count": 51,
     "metadata": {},
     "output_type": "execute_result"
    }
   ],
   "source": [
    "(\n",
    "    df\n",
    "    .filter(\n",
    "        pl.col('trip_distance').gt(0)\n",
    "    )\n",
    "    .sort(\n",
    "        'trip_distance',descending = True\n",
    "    )\n",
    "    .select([\n",
    "        'trip_distance',\n",
    "        'fare_amount'\n",
    "    ])\n",
    ")"
   ]
  },
  {
   "cell_type": "code",
   "execution_count": null,
   "id": "090aa74d-568e-4041-9c8c-f8765f99489f",
   "metadata": {},
   "outputs": [],
   "source": []
  }
 ],
 "metadata": {
  "kernelspec": {
   "display_name": "Python 3 (ipykernel)",
   "language": "python",
   "name": "python3"
  },
  "language_info": {
   "codemirror_mode": {
    "name": "ipython",
    "version": 3
   },
   "file_extension": ".py",
   "mimetype": "text/x-python",
   "name": "python",
   "nbconvert_exporter": "python",
   "pygments_lexer": "ipython3",
   "version": "3.10.1"
  }
 },
 "nbformat": 4,
 "nbformat_minor": 5
}
