{
 "cells": [
  {
   "cell_type": "code",
   "execution_count": 1,
   "id": "1dbae371-c233-40cf-ad51-5b86921c8a69",
   "metadata": {},
   "outputs": [],
   "source": [
    "import polars as pl\n",
    "csv_file = '../data/yellow_tripdata_2023-02.csv'\n",
    "parquet_file = '../data/yellow_tripdata_2023-02.parquet'"
   ]
  },
  {
   "cell_type": "code",
   "execution_count": 2,
   "id": "95e59f0b-0e14-4a3c-a835-530cd5fe0d7a",
   "metadata": {},
   "outputs": [
    {
     "data": {
      "text/html": [
       "<div><style>\n",
       ".dataframe > thead > tr,\n",
       ".dataframe > tbody > tr {\n",
       "  text-align: right;\n",
       "  white-space: pre-wrap;\n",
       "}\n",
       "</style>\n",
       "<small>shape: (2, 19)</small><table border=\"1\" class=\"dataframe\"><thead><tr><th>VendorID</th><th>tpep_pickup_datetime</th><th>tpep_dropoff_datetime</th><th>passenger_count</th><th>trip_distance</th><th>RatecodeID</th><th>store_and_fwd_flag</th><th>PULocationID</th><th>DOLocationID</th><th>payment_type</th><th>fare_amount</th><th>extra</th><th>mta_tax</th><th>tip_amount</th><th>tolls_amount</th><th>improvement_surcharge</th><th>total_amount</th><th>congestion_surcharge</th><th>Airport_fee</th></tr><tr><td>i32</td><td>datetime[ns]</td><td>datetime[ns]</td><td>i64</td><td>f64</td><td>i64</td><td>str</td><td>i32</td><td>i32</td><td>i64</td><td>f64</td><td>f64</td><td>f64</td><td>f64</td><td>f64</td><td>f64</td><td>f64</td><td>f64</td><td>f64</td></tr></thead><tbody><tr><td>1</td><td>2023-02-01 00:32:53</td><td>2023-02-01 00:34:34</td><td>2</td><td>0.3</td><td>1</td><td>&quot;N&quot;</td><td>142</td><td>163</td><td>2</td><td>4.4</td><td>3.5</td><td>0.5</td><td>0.0</td><td>0.0</td><td>1.0</td><td>9.4</td><td>2.5</td><td>0.0</td></tr><tr><td>2</td><td>2023-02-01 00:35:16</td><td>2023-02-01 00:35:30</td><td>1</td><td>0.0</td><td>1</td><td>&quot;N&quot;</td><td>71</td><td>71</td><td>4</td><td>-3.0</td><td>-1.0</td><td>-0.5</td><td>0.0</td><td>0.0</td><td>-1.0</td><td>-5.5</td><td>0.0</td><td>0.0</td></tr></tbody></table></div>"
      ],
      "text/plain": [
       "shape: (2, 19)\n",
       "┌──────────┬──────────────┬──────────────┬──────────────┬───┬──────────────┬──────────────┬──────────────┬─────────────┐\n",
       "│ VendorID ┆ tpep_pickup_ ┆ tpep_dropoff ┆ passenger_co ┆ … ┆ improvement_ ┆ total_amount ┆ congestion_s ┆ Airport_fee │\n",
       "│ ---      ┆ datetime     ┆ _datetime    ┆ unt          ┆   ┆ surcharge    ┆ ---          ┆ urcharge     ┆ ---         │\n",
       "│ i32      ┆ ---          ┆ ---          ┆ ---          ┆   ┆ ---          ┆ f64          ┆ ---          ┆ f64         │\n",
       "│          ┆ datetime[ns] ┆ datetime[ns] ┆ i64          ┆   ┆ f64          ┆              ┆ f64          ┆             │\n",
       "╞══════════╪══════════════╪══════════════╪══════════════╪═══╪══════════════╪══════════════╪══════════════╪═════════════╡\n",
       "│ 1        ┆ 2023-02-01   ┆ 2023-02-01   ┆ 2            ┆ … ┆ 1.0          ┆ 9.4          ┆ 2.5          ┆ 0.0         │\n",
       "│          ┆ 00:32:53     ┆ 00:34:34     ┆              ┆   ┆              ┆              ┆              ┆             │\n",
       "│ 2        ┆ 2023-02-01   ┆ 2023-02-01   ┆ 1            ┆ … ┆ -1.0         ┆ -5.5         ┆ 0.0          ┆ 0.0         │\n",
       "│          ┆ 00:35:16     ┆ 00:35:30     ┆              ┆   ┆              ┆              ┆              ┆             │\n",
       "└──────────┴──────────────┴──────────────┴──────────────┴───┴──────────────┴──────────────┴──────────────┴─────────────┘"
      ]
     },
     "execution_count": 2,
     "metadata": {},
     "output_type": "execute_result"
    }
   ],
   "source": [
    "df = pl.read_parquet(parquet_file)\n",
    "df.head(2)"
   ]
  },
  {
   "cell_type": "markdown",
   "id": "8a30d211-dbf9-4427-870f-599d78955e09",
   "metadata": {},
   "source": [
    "# Operating on Multiple cols at the same time"
   ]
  },
  {
   "cell_type": "code",
   "execution_count": 3,
   "id": "5172b0ef-46f8-494e-992c-515863187274",
   "metadata": {},
   "outputs": [
    {
     "data": {
      "text/html": [
       "<div><style>\n",
       ".dataframe > thead > tr,\n",
       ".dataframe > tbody > tr {\n",
       "  text-align: right;\n",
       "  white-space: pre-wrap;\n",
       "}\n",
       "</style>\n",
       "<small>shape: (5, 18)</small><table border=\"1\" class=\"dataframe\"><thead><tr><th>fare_amount_usd</th><th>extra_usd</th><th>mta_tax_usd</th><th>tip_amount_usd</th><th>tolls_amount_usd</th><th>improvement_surcharge_usd</th><th>total_amount_usd</th><th>congestion_surcharge_usd</th><th>Airport_fee_usd</th><th>fare_amount_eur</th><th>extra_eur</th><th>mta_tax_eur</th><th>tip_amount_eur</th><th>tolls_amount_eur</th><th>improvement_surcharge_eur</th><th>total_amount_eur</th><th>congestion_surcharge_eur</th><th>Airport_fee_eur</th></tr><tr><td>f64</td><td>f64</td><td>f64</td><td>f64</td><td>f64</td><td>f64</td><td>f64</td><td>f64</td><td>f64</td><td>f64</td><td>f64</td><td>f64</td><td>f64</td><td>f64</td><td>f64</td><td>f64</td><td>f64</td><td>f64</td></tr></thead><tbody><tr><td>4.4</td><td>3.5</td><td>0.5</td><td>0.0</td><td>0.0</td><td>1.0</td><td>9.4</td><td>2.5</td><td>0.0</td><td>4.048</td><td>3.22</td><td>0.46</td><td>0.0</td><td>0.0</td><td>0.92</td><td>8.648</td><td>2.3</td><td>0.0</td></tr><tr><td>-3.0</td><td>-1.0</td><td>-0.5</td><td>0.0</td><td>0.0</td><td>-1.0</td><td>-5.5</td><td>0.0</td><td>0.0</td><td>-2.76</td><td>-0.92</td><td>-0.46</td><td>0.0</td><td>0.0</td><td>-0.92</td><td>-5.06</td><td>0.0</td><td>0.0</td></tr><tr><td>3.0</td><td>1.0</td><td>0.5</td><td>0.0</td><td>0.0</td><td>1.0</td><td>5.5</td><td>0.0</td><td>0.0</td><td>2.76</td><td>0.92</td><td>0.46</td><td>0.0</td><td>0.0</td><td>0.92</td><td>5.06</td><td>0.0</td><td>0.0</td></tr><tr><td>70.9</td><td>2.25</td><td>0.5</td><td>0.0</td><td>0.0</td><td>1.0</td><td>74.65</td><td>0.0</td><td>1.25</td><td>65.228</td><td>2.07</td><td>0.46</td><td>0.0</td><td>0.0</td><td>0.92</td><td>68.678</td><td>0.0</td><td>1.15</td></tr><tr><td>17.0</td><td>1.0</td><td>0.5</td><td>3.3</td><td>0.0</td><td>1.0</td><td>25.3</td><td>2.5</td><td>0.0</td><td>15.64</td><td>0.92</td><td>0.46</td><td>3.036</td><td>0.0</td><td>0.92</td><td>23.276</td><td>2.3</td><td>0.0</td></tr></tbody></table></div>"
      ],
      "text/plain": [
       "shape: (5, 18)\n",
       "┌──────────────┬───────────┬─────────────┬──────────────┬───┬──────────────┬──────────────┬──────────────┬─────────────┐\n",
       "│ fare_amount_ ┆ extra_usd ┆ mta_tax_usd ┆ tip_amount_u ┆ … ┆ improvement_ ┆ total_amount ┆ congestion_s ┆ Airport_fee │\n",
       "│ usd          ┆ ---       ┆ ---         ┆ sd           ┆   ┆ surcharge_eu ┆ _eur         ┆ urcharge_eur ┆ _eur        │\n",
       "│ ---          ┆ f64       ┆ f64         ┆ ---          ┆   ┆ r            ┆ ---          ┆ ---          ┆ ---         │\n",
       "│ f64          ┆           ┆             ┆ f64          ┆   ┆ ---          ┆ f64          ┆ f64          ┆ f64         │\n",
       "│              ┆           ┆             ┆              ┆   ┆ f64          ┆              ┆              ┆             │\n",
       "╞══════════════╪═══════════╪═════════════╪══════════════╪═══╪══════════════╪══════════════╪══════════════╪═════════════╡\n",
       "│ 4.4          ┆ 3.5       ┆ 0.5         ┆ 0.0          ┆ … ┆ 0.92         ┆ 8.648        ┆ 2.3          ┆ 0.0         │\n",
       "│ -3.0         ┆ -1.0      ┆ -0.5        ┆ 0.0          ┆ … ┆ -0.92        ┆ -5.06        ┆ 0.0          ┆ 0.0         │\n",
       "│ 3.0          ┆ 1.0       ┆ 0.5         ┆ 0.0          ┆ … ┆ 0.92         ┆ 5.06         ┆ 0.0          ┆ 0.0         │\n",
       "│ 70.9         ┆ 2.25      ┆ 0.5         ┆ 0.0          ┆ … ┆ 0.92         ┆ 68.678       ┆ 0.0          ┆ 1.15        │\n",
       "│ 17.0         ┆ 1.0       ┆ 0.5         ┆ 3.3          ┆ … ┆ 0.92         ┆ 23.276       ┆ 2.3          ┆ 0.0         │\n",
       "└──────────────┴───────────┴─────────────┴──────────────┴───┴──────────────┴──────────────┴──────────────┴─────────────┘"
      ]
     },
     "execution_count": 3,
     "metadata": {},
     "output_type": "execute_result"
    }
   ],
   "source": [
    "# Naive method\n",
    "eur_per_usd = 0.92  # As of 2024-05-27.\n",
    "(\n",
    "    df\n",
    "    .select([\n",
    "        # Payment amounts in USD, explicitly named as such.\n",
    "        pl.col('fare_amount').name.suffix(\"_usd\"),\n",
    "        pl.col('extra').name.suffix(\"_usd\"),\n",
    "        pl.col('mta_tax').name.suffix(\"_usd\"),\n",
    "        pl.col('tip_amount').name.suffix(\"_usd\"),\n",
    "        pl.col('tolls_amount').name.suffix(\"_usd\"),\n",
    "        pl.col('improvement_surcharge').name.suffix(\"_usd\"),\n",
    "        pl.col('total_amount').name.suffix(\"_usd\"),\n",
    "        pl.col('congestion_surcharge').name.suffix(\"_usd\"),\n",
    "        pl.col('Airport_fee').name.suffix(\"_usd\"),\n",
    "        \n",
    "        # Payment amounts, in Euros.\n",
    "        (pl.col('fare_amount') * eur_per_usd).name.suffix(\"_eur\"),\n",
    "        (pl.col('extra') * eur_per_usd).name.suffix(\"_eur\"),\n",
    "        (pl.col('mta_tax') * eur_per_usd).name.suffix(\"_eur\"),\n",
    "        (pl.col('tip_amount') * eur_per_usd).name.suffix(\"_eur\"),\n",
    "        (pl.col('tolls_amount') * eur_per_usd).name.suffix(\"_eur\"),\n",
    "        (pl.col('improvement_surcharge') * eur_per_usd).name.suffix(\"_eur\"),\n",
    "        (pl.col('total_amount') * eur_per_usd).name.suffix(\"_eur\"),\n",
    "        (pl.col('congestion_surcharge') * eur_per_usd).name.suffix(\"_eur\"),\n",
    "        (pl.col('Airport_fee') * eur_per_usd).name.suffix(\"_eur\"),\n",
    "    ])\n",
    "    .head()\n",
    ")"
   ]
  },
  {
   "cell_type": "code",
   "execution_count": 4,
   "id": "ed6b1521-d1e7-414b-9ec2-f5ec9b5553e9",
   "metadata": {},
   "outputs": [
    {
     "data": {
      "text/html": [
       "<div><style>\n",
       ".dataframe > thead > tr,\n",
       ".dataframe > tbody > tr {\n",
       "  text-align: right;\n",
       "  white-space: pre-wrap;\n",
       "}\n",
       "</style>\n",
       "<small>shape: (5, 18)</small><table border=\"1\" class=\"dataframe\"><thead><tr><th>fare_amount_usd</th><th>extra_usd</th><th>mta_tax_usd</th><th>tip_amount_usd</th><th>tolls_amount_usd</th><th>improvement_surcharge_usd</th><th>total_amount_usd</th><th>congestion_surcharge_usd</th><th>Airport_fee_usd</th><th>fare_amount_eur</th><th>extra_eur</th><th>mta_tax_eur</th><th>tip_amount_eur</th><th>tolls_amount_eur</th><th>improvement_surcharge_eur</th><th>total_amount_eur</th><th>congestion_surcharge_eur</th><th>Airport_fee_eur</th></tr><tr><td>f64</td><td>f64</td><td>f64</td><td>f64</td><td>f64</td><td>f64</td><td>f64</td><td>f64</td><td>f64</td><td>f64</td><td>f64</td><td>f64</td><td>f64</td><td>f64</td><td>f64</td><td>f64</td><td>f64</td><td>f64</td></tr></thead><tbody><tr><td>4.4</td><td>3.5</td><td>0.5</td><td>0.0</td><td>0.0</td><td>1.0</td><td>9.4</td><td>2.5</td><td>0.0</td><td>4.048</td><td>3.22</td><td>0.46</td><td>0.0</td><td>0.0</td><td>0.92</td><td>8.648</td><td>2.3</td><td>0.0</td></tr><tr><td>-3.0</td><td>-1.0</td><td>-0.5</td><td>0.0</td><td>0.0</td><td>-1.0</td><td>-5.5</td><td>0.0</td><td>0.0</td><td>-2.76</td><td>-0.92</td><td>-0.46</td><td>0.0</td><td>0.0</td><td>-0.92</td><td>-5.06</td><td>0.0</td><td>0.0</td></tr><tr><td>3.0</td><td>1.0</td><td>0.5</td><td>0.0</td><td>0.0</td><td>1.0</td><td>5.5</td><td>0.0</td><td>0.0</td><td>2.76</td><td>0.92</td><td>0.46</td><td>0.0</td><td>0.0</td><td>0.92</td><td>5.06</td><td>0.0</td><td>0.0</td></tr><tr><td>70.9</td><td>2.25</td><td>0.5</td><td>0.0</td><td>0.0</td><td>1.0</td><td>74.65</td><td>0.0</td><td>1.25</td><td>65.228</td><td>2.07</td><td>0.46</td><td>0.0</td><td>0.0</td><td>0.92</td><td>68.678</td><td>0.0</td><td>1.15</td></tr><tr><td>17.0</td><td>1.0</td><td>0.5</td><td>3.3</td><td>0.0</td><td>1.0</td><td>25.3</td><td>2.5</td><td>0.0</td><td>15.64</td><td>0.92</td><td>0.46</td><td>3.036</td><td>0.0</td><td>0.92</td><td>23.276</td><td>2.3</td><td>0.0</td></tr></tbody></table></div>"
      ],
      "text/plain": [
       "shape: (5, 18)\n",
       "┌──────────────┬───────────┬─────────────┬──────────────┬───┬──────────────┬──────────────┬──────────────┬─────────────┐\n",
       "│ fare_amount_ ┆ extra_usd ┆ mta_tax_usd ┆ tip_amount_u ┆ … ┆ improvement_ ┆ total_amount ┆ congestion_s ┆ Airport_fee │\n",
       "│ usd          ┆ ---       ┆ ---         ┆ sd           ┆   ┆ surcharge_eu ┆ _eur         ┆ urcharge_eur ┆ _eur        │\n",
       "│ ---          ┆ f64       ┆ f64         ┆ ---          ┆   ┆ r            ┆ ---          ┆ ---          ┆ ---         │\n",
       "│ f64          ┆           ┆             ┆ f64          ┆   ┆ ---          ┆ f64          ┆ f64          ┆ f64         │\n",
       "│              ┆           ┆             ┆              ┆   ┆ f64          ┆              ┆              ┆             │\n",
       "╞══════════════╪═══════════╪═════════════╪══════════════╪═══╪══════════════╪══════════════╪══════════════╪═════════════╡\n",
       "│ 4.4          ┆ 3.5       ┆ 0.5         ┆ 0.0          ┆ … ┆ 0.92         ┆ 8.648        ┆ 2.3          ┆ 0.0         │\n",
       "│ -3.0         ┆ -1.0      ┆ -0.5        ┆ 0.0          ┆ … ┆ -0.92        ┆ -5.06        ┆ 0.0          ┆ 0.0         │\n",
       "│ 3.0          ┆ 1.0       ┆ 0.5         ┆ 0.0          ┆ … ┆ 0.92         ┆ 5.06         ┆ 0.0          ┆ 0.0         │\n",
       "│ 70.9         ┆ 2.25      ┆ 0.5         ┆ 0.0          ┆ … ┆ 0.92         ┆ 68.678       ┆ 0.0          ┆ 1.15        │\n",
       "│ 17.0         ┆ 1.0       ┆ 0.5         ┆ 3.3          ┆ … ┆ 0.92         ┆ 23.276       ┆ 2.3          ┆ 0.0         │\n",
       "└──────────────┴───────────┴─────────────┴──────────────┴───┴──────────────┴──────────────┴──────────────┴─────────────┘"
      ]
     },
     "execution_count": 4,
     "metadata": {},
     "output_type": "execute_result"
    }
   ],
   "source": [
    "# Polars way of operating on multiple cols\n",
    "eur_per_usd = 0.92\n",
    "currency_columns = [\n",
    "    \"fare_amount\",\n",
    "    \"extra\",\n",
    "    \"mta_tax\",\n",
    "    \"tip_amount\",\n",
    "    \"tolls_amount\",\n",
    "    \"improvement_surcharge\",\n",
    "    \"total_amount\",\n",
    "    \"congestion_surcharge\",\n",
    "    \"Airport_fee\",\n",
    "]\n",
    "(\n",
    "    df\n",
    "    .select([\n",
    "        pl.col(currency_columns).name.suffix(\"_usd\"),\n",
    "        (pl.col(currency_columns) * eur_per_usd).name.suffix(\"_eur\"),\n",
    "    ])\n",
    "    .head()\n",
    ")"
   ]
  },
  {
   "cell_type": "markdown",
   "id": "9a25cbcf-1639-4beb-a8d4-d2587973b5e4",
   "metadata": {},
   "source": [
    "# Selecting cols on the datatype"
   ]
  },
  {
   "cell_type": "code",
   "execution_count": 5,
   "id": "a88e2b91-e51f-427e-9f34-5dced97739a3",
   "metadata": {},
   "outputs": [
    {
     "data": {
      "text/html": [
       "<div><style>\n",
       ".dataframe > thead > tr,\n",
       ".dataframe > tbody > tr {\n",
       "  text-align: right;\n",
       "  white-space: pre-wrap;\n",
       "}\n",
       "</style>\n",
       "<small>shape: (2_913_955, 10)</small><table border=\"1\" class=\"dataframe\"><thead><tr><th>trip_distance</th><th>fare_amount</th><th>extra</th><th>mta_tax</th><th>tip_amount</th><th>tolls_amount</th><th>improvement_surcharge</th><th>total_amount</th><th>congestion_surcharge</th><th>Airport_fee</th></tr><tr><td>f64</td><td>f64</td><td>f64</td><td>f64</td><td>f64</td><td>f64</td><td>f64</td><td>f64</td><td>f64</td><td>f64</td></tr></thead><tbody><tr><td>0.3</td><td>4.4</td><td>3.5</td><td>0.5</td><td>0.0</td><td>0.0</td><td>1.0</td><td>9.4</td><td>2.5</td><td>0.0</td></tr><tr><td>0.0</td><td>-3.0</td><td>-1.0</td><td>-0.5</td><td>0.0</td><td>0.0</td><td>-1.0</td><td>-5.5</td><td>0.0</td><td>0.0</td></tr><tr><td>0.0</td><td>3.0</td><td>1.0</td><td>0.5</td><td>0.0</td><td>0.0</td><td>1.0</td><td>5.5</td><td>0.0</td><td>0.0</td></tr><tr><td>18.8</td><td>70.9</td><td>2.25</td><td>0.5</td><td>0.0</td><td>0.0</td><td>1.0</td><td>74.65</td><td>0.0</td><td>1.25</td></tr><tr><td>3.22</td><td>17.0</td><td>1.0</td><td>0.5</td><td>3.3</td><td>0.0</td><td>1.0</td><td>25.3</td><td>2.5</td><td>0.0</td></tr><tr><td>&hellip;</td><td>&hellip;</td><td>&hellip;</td><td>&hellip;</td><td>&hellip;</td><td>&hellip;</td><td>&hellip;</td><td>&hellip;</td><td>&hellip;</td><td>&hellip;</td></tr><tr><td>4.65</td><td>20.22</td><td>0.0</td><td>0.5</td><td>4.84</td><td>0.0</td><td>1.0</td><td>29.06</td><td>null</td><td>null</td></tr><tr><td>2.47</td><td>13.66</td><td>0.0</td><td>0.5</td><td>2.65</td><td>0.0</td><td>1.0</td><td>20.31</td><td>null</td><td>null</td></tr><tr><td>3.49</td><td>17.64</td><td>0.0</td><td>0.5</td><td>0.0</td><td>0.0</td><td>1.0</td><td>21.64</td><td>null</td><td>null</td></tr><tr><td>2.13</td><td>13.56</td><td>0.0</td><td>0.5</td><td>2.63</td><td>0.0</td><td>1.0</td><td>20.19</td><td>null</td><td>null</td></tr><tr><td>2.28</td><td>14.89</td><td>0.0</td><td>0.5</td><td>3.78</td><td>0.0</td><td>1.0</td><td>22.67</td><td>null</td><td>null</td></tr></tbody></table></div>"
      ],
      "text/plain": [
       "shape: (2_913_955, 10)\n",
       "┌───────────────┬─────────────┬───────┬─────────┬───┬──────────────────┬──────────────┬──────────────────┬─────────────┐\n",
       "│ trip_distance ┆ fare_amount ┆ extra ┆ mta_tax ┆ … ┆ improvement_surc ┆ total_amount ┆ congestion_surch ┆ Airport_fee │\n",
       "│ ---           ┆ ---         ┆ ---   ┆ ---     ┆   ┆ harge            ┆ ---          ┆ arge             ┆ ---         │\n",
       "│ f64           ┆ f64         ┆ f64   ┆ f64     ┆   ┆ ---              ┆ f64          ┆ ---              ┆ f64         │\n",
       "│               ┆             ┆       ┆         ┆   ┆ f64              ┆              ┆ f64              ┆             │\n",
       "╞═══════════════╪═════════════╪═══════╪═════════╪═══╪══════════════════╪══════════════╪══════════════════╪═════════════╡\n",
       "│ 0.3           ┆ 4.4         ┆ 3.5   ┆ 0.5     ┆ … ┆ 1.0              ┆ 9.4          ┆ 2.5              ┆ 0.0         │\n",
       "│ 0.0           ┆ -3.0        ┆ -1.0  ┆ -0.5    ┆ … ┆ -1.0             ┆ -5.5         ┆ 0.0              ┆ 0.0         │\n",
       "│ 0.0           ┆ 3.0         ┆ 1.0   ┆ 0.5     ┆ … ┆ 1.0              ┆ 5.5          ┆ 0.0              ┆ 0.0         │\n",
       "│ 18.8          ┆ 70.9        ┆ 2.25  ┆ 0.5     ┆ … ┆ 1.0              ┆ 74.65        ┆ 0.0              ┆ 1.25        │\n",
       "│ 3.22          ┆ 17.0        ┆ 1.0   ┆ 0.5     ┆ … ┆ 1.0              ┆ 25.3         ┆ 2.5              ┆ 0.0         │\n",
       "│ …             ┆ …           ┆ …     ┆ …       ┆ … ┆ …                ┆ …            ┆ …                ┆ …           │\n",
       "│ 4.65          ┆ 20.22       ┆ 0.0   ┆ 0.5     ┆ … ┆ 1.0              ┆ 29.06        ┆ null             ┆ null        │\n",
       "│ 2.47          ┆ 13.66       ┆ 0.0   ┆ 0.5     ┆ … ┆ 1.0              ┆ 20.31        ┆ null             ┆ null        │\n",
       "│ 3.49          ┆ 17.64       ┆ 0.0   ┆ 0.5     ┆ … ┆ 1.0              ┆ 21.64        ┆ null             ┆ null        │\n",
       "│ 2.13          ┆ 13.56       ┆ 0.0   ┆ 0.5     ┆ … ┆ 1.0              ┆ 20.19        ┆ null             ┆ null        │\n",
       "│ 2.28          ┆ 14.89       ┆ 0.0   ┆ 0.5     ┆ … ┆ 1.0              ┆ 22.67        ┆ null             ┆ null        │\n",
       "└───────────────┴─────────────┴───────┴─────────┴───┴──────────────────┴──────────────┴──────────────────┴─────────────┘"
      ]
     },
     "execution_count": 5,
     "metadata": {},
     "output_type": "execute_result"
    }
   ],
   "source": [
    "(\n",
    "    df\n",
    "    .select([\n",
    "        pl.col(pl.Float64)\n",
    "    ])\n",
    ")"
   ]
  },
  {
   "cell_type": "code",
   "execution_count": 33,
   "id": "f7e199f7-356a-44d1-a3fc-97a1bd15f33a",
   "metadata": {},
   "outputs": [
    {
     "data": {
      "text/html": [
       "<div><style>\n",
       ".dataframe > thead > tr,\n",
       ".dataframe > tbody > tr {\n",
       "  text-align: right;\n",
       "  white-space: pre-wrap;\n",
       "}\n",
       "</style>\n",
       "<small>shape: (1, 1)</small><table border=\"1\" class=\"dataframe\"><thead><tr><th>trip_distance_mean</th></tr><tr><td>f64</td></tr></thead><tbody><tr><td>0.00878</td></tr></tbody></table></div>"
      ],
      "text/plain": [
       "shape: (1, 1)\n",
       "┌────────────────────┐\n",
       "│ trip_distance_mean │\n",
       "│ ---                │\n",
       "│ f64                │\n",
       "╞════════════════════╡\n",
       "│ 0.00878            │\n",
       "└────────────────────┘"
      ]
     },
     "execution_count": 33,
     "metadata": {},
     "output_type": "execute_result"
    }
   ],
   "source": [
    "(\n",
    "    df\n",
    "    .select([\n",
    "        pl.any_horizontal(pl.col(pl.Float64).lt(0).name.suffix('_mean')).mean()\n",
    "    ])\n",
    ")"
   ]
  },
  {
   "cell_type": "markdown",
   "id": "cf7a61fe-f2bc-4099-b461-5a7cf47e4fd7",
   "metadata": {},
   "source": [
    "# Adding new cols with **.with_columns()**\n",
    "- Using with_columns() to add a new col\n",
    "- Overwriting already existing col with new values\n",
    "- Adding new col with using argument for naming."
   ]
  },
  {
   "cell_type": "code",
   "execution_count": 34,
   "id": "65b6cde5-96d7-4fff-86ec-84bf0a21f4a0",
   "metadata": {},
   "outputs": [
    {
     "data": {
      "text/html": [
       "<div><style>\n",
       ".dataframe > thead > tr,\n",
       ".dataframe > tbody > tr {\n",
       "  text-align: right;\n",
       "  white-space: pre-wrap;\n",
       "}\n",
       "</style>\n",
       "<small>shape: (2_913_955, 20)</small><table border=\"1\" class=\"dataframe\"><thead><tr><th>VendorID</th><th>tpep_pickup_datetime</th><th>tpep_dropoff_datetime</th><th>passenger_count</th><th>trip_distance</th><th>RatecodeID</th><th>store_and_fwd_flag</th><th>PULocationID</th><th>DOLocationID</th><th>payment_type</th><th>fare_amount</th><th>extra</th><th>mta_tax</th><th>tip_amount</th><th>tolls_amount</th><th>improvement_surcharge</th><th>total_amount</th><th>congestion_surcharge</th><th>Airport_fee</th><th>new_col</th></tr><tr><td>i32</td><td>datetime[ns]</td><td>datetime[ns]</td><td>i64</td><td>f64</td><td>i64</td><td>str</td><td>i32</td><td>i32</td><td>i64</td><td>f64</td><td>f64</td><td>f64</td><td>f64</td><td>f64</td><td>f64</td><td>f64</td><td>f64</td><td>f64</td><td>f64</td></tr></thead><tbody><tr><td>1</td><td>2023-02-01 00:32:53</td><td>2023-02-01 00:34:34</td><td>2</td><td>0.3</td><td>1</td><td>&quot;N&quot;</td><td>142</td><td>163</td><td>2</td><td>4.4</td><td>3.5</td><td>0.5</td><td>0.0</td><td>0.0</td><td>1.0</td><td>9.4</td><td>2.5</td><td>0.0</td><td>30.0</td></tr><tr><td>2</td><td>2023-02-01 00:35:16</td><td>2023-02-01 00:35:30</td><td>1</td><td>0.0</td><td>1</td><td>&quot;N&quot;</td><td>71</td><td>71</td><td>4</td><td>-3.0</td><td>-1.0</td><td>-0.5</td><td>0.0</td><td>0.0</td><td>-1.0</td><td>-5.5</td><td>0.0</td><td>0.0</td><td>0.0</td></tr><tr><td>2</td><td>2023-02-01 00:35:16</td><td>2023-02-01 00:35:30</td><td>1</td><td>0.0</td><td>1</td><td>&quot;N&quot;</td><td>71</td><td>71</td><td>4</td><td>3.0</td><td>1.0</td><td>0.5</td><td>0.0</td><td>0.0</td><td>1.0</td><td>5.5</td><td>0.0</td><td>0.0</td><td>0.0</td></tr><tr><td>1</td><td>2023-02-01 00:29:33</td><td>2023-02-01 01:01:38</td><td>0</td><td>18.8</td><td>1</td><td>&quot;N&quot;</td><td>132</td><td>26</td><td>1</td><td>70.9</td><td>2.25</td><td>0.5</td><td>0.0</td><td>0.0</td><td>1.0</td><td>74.65</td><td>0.0</td><td>1.25</td><td>1880.0</td></tr><tr><td>2</td><td>2023-02-01 00:12:28</td><td>2023-02-01 00:25:46</td><td>1</td><td>3.22</td><td>1</td><td>&quot;N&quot;</td><td>161</td><td>145</td><td>1</td><td>17.0</td><td>1.0</td><td>0.5</td><td>3.3</td><td>0.0</td><td>1.0</td><td>25.3</td><td>2.5</td><td>0.0</td><td>322.0</td></tr><tr><td>&hellip;</td><td>&hellip;</td><td>&hellip;</td><td>&hellip;</td><td>&hellip;</td><td>&hellip;</td><td>&hellip;</td><td>&hellip;</td><td>&hellip;</td><td>&hellip;</td><td>&hellip;</td><td>&hellip;</td><td>&hellip;</td><td>&hellip;</td><td>&hellip;</td><td>&hellip;</td><td>&hellip;</td><td>&hellip;</td><td>&hellip;</td><td>&hellip;</td></tr><tr><td>2</td><td>2023-02-28 23:46:00</td><td>2023-03-01 00:05:00</td><td>null</td><td>4.65</td><td>null</td><td>null</td><td>249</td><td>140</td><td>0</td><td>20.22</td><td>0.0</td><td>0.5</td><td>4.84</td><td>0.0</td><td>1.0</td><td>29.06</td><td>null</td><td>null</td><td>465.0</td></tr><tr><td>2</td><td>2023-02-28 23:26:02</td><td>2023-02-28 23:37:10</td><td>null</td><td>2.47</td><td>null</td><td>null</td><td>186</td><td>79</td><td>0</td><td>13.66</td><td>0.0</td><td>0.5</td><td>2.65</td><td>0.0</td><td>1.0</td><td>20.31</td><td>null</td><td>null</td><td>247.0</td></tr><tr><td>2</td><td>2023-02-28 23:24:00</td><td>2023-02-28 23:38:00</td><td>null</td><td>3.49</td><td>null</td><td>null</td><td>158</td><td>143</td><td>0</td><td>17.64</td><td>0.0</td><td>0.5</td><td>0.0</td><td>0.0</td><td>1.0</td><td>21.64</td><td>null</td><td>null</td><td>349.0</td></tr><tr><td>2</td><td>2023-02-28 23:03:00</td><td>2023-02-28 23:10:00</td><td>null</td><td>2.13</td><td>null</td><td>null</td><td>79</td><td>162</td><td>0</td><td>13.56</td><td>0.0</td><td>0.5</td><td>2.63</td><td>0.0</td><td>1.0</td><td>20.19</td><td>null</td><td>null</td><td>213.0</td></tr><tr><td>2</td><td>2023-02-28 23:03:03</td><td>2023-02-28 23:12:51</td><td>null</td><td>2.28</td><td>null</td><td>null</td><td>161</td><td>140</td><td>0</td><td>14.89</td><td>0.0</td><td>0.5</td><td>3.78</td><td>0.0</td><td>1.0</td><td>22.67</td><td>null</td><td>null</td><td>228.0</td></tr></tbody></table></div>"
      ],
      "text/plain": [
       "shape: (2_913_955, 20)\n",
       "┌──────────┬────────────────┬───────────────┬───────────────┬───┬──────────────┬───────────────┬─────────────┬─────────┐\n",
       "│ VendorID ┆ tpep_pickup_da ┆ tpep_dropoff_ ┆ passenger_cou ┆ … ┆ total_amount ┆ congestion_su ┆ Airport_fee ┆ new_col │\n",
       "│ ---      ┆ tetime         ┆ datetime      ┆ nt            ┆   ┆ ---          ┆ rcharge       ┆ ---         ┆ ---     │\n",
       "│ i32      ┆ ---            ┆ ---           ┆ ---           ┆   ┆ f64          ┆ ---           ┆ f64         ┆ f64     │\n",
       "│          ┆ datetime[ns]   ┆ datetime[ns]  ┆ i64           ┆   ┆              ┆ f64           ┆             ┆         │\n",
       "╞══════════╪════════════════╪═══════════════╪═══════════════╪═══╪══════════════╪═══════════════╪═════════════╪═════════╡\n",
       "│ 1        ┆ 2023-02-01     ┆ 2023-02-01    ┆ 2             ┆ … ┆ 9.4          ┆ 2.5           ┆ 0.0         ┆ 30.0    │\n",
       "│          ┆ 00:32:53       ┆ 00:34:34      ┆               ┆   ┆              ┆               ┆             ┆         │\n",
       "│ 2        ┆ 2023-02-01     ┆ 2023-02-01    ┆ 1             ┆ … ┆ -5.5         ┆ 0.0           ┆ 0.0         ┆ 0.0     │\n",
       "│          ┆ 00:35:16       ┆ 00:35:30      ┆               ┆   ┆              ┆               ┆             ┆         │\n",
       "│ 2        ┆ 2023-02-01     ┆ 2023-02-01    ┆ 1             ┆ … ┆ 5.5          ┆ 0.0           ┆ 0.0         ┆ 0.0     │\n",
       "│          ┆ 00:35:16       ┆ 00:35:30      ┆               ┆   ┆              ┆               ┆             ┆         │\n",
       "│ 1        ┆ 2023-02-01     ┆ 2023-02-01    ┆ 0             ┆ … ┆ 74.65        ┆ 0.0           ┆ 1.25        ┆ 1880.0  │\n",
       "│          ┆ 00:29:33       ┆ 01:01:38      ┆               ┆   ┆              ┆               ┆             ┆         │\n",
       "│ 2        ┆ 2023-02-01     ┆ 2023-02-01    ┆ 1             ┆ … ┆ 25.3         ┆ 2.5           ┆ 0.0         ┆ 322.0   │\n",
       "│          ┆ 00:12:28       ┆ 00:25:46      ┆               ┆   ┆              ┆               ┆             ┆         │\n",
       "│ …        ┆ …              ┆ …             ┆ …             ┆ … ┆ …            ┆ …             ┆ …           ┆ …       │\n",
       "│ 2        ┆ 2023-02-28     ┆ 2023-03-01    ┆ null          ┆ … ┆ 29.06        ┆ null          ┆ null        ┆ 465.0   │\n",
       "│          ┆ 23:46:00       ┆ 00:05:00      ┆               ┆   ┆              ┆               ┆             ┆         │\n",
       "│ 2        ┆ 2023-02-28     ┆ 2023-02-28    ┆ null          ┆ … ┆ 20.31        ┆ null          ┆ null        ┆ 247.0   │\n",
       "│          ┆ 23:26:02       ┆ 23:37:10      ┆               ┆   ┆              ┆               ┆             ┆         │\n",
       "│ 2        ┆ 2023-02-28     ┆ 2023-02-28    ┆ null          ┆ … ┆ 21.64        ┆ null          ┆ null        ┆ 349.0   │\n",
       "│          ┆ 23:24:00       ┆ 23:38:00      ┆               ┆   ┆              ┆               ┆             ┆         │\n",
       "│ 2        ┆ 2023-02-28     ┆ 2023-02-28    ┆ null          ┆ … ┆ 20.19        ┆ null          ┆ null        ┆ 213.0   │\n",
       "│          ┆ 23:03:00       ┆ 23:10:00      ┆               ┆   ┆              ┆               ┆             ┆         │\n",
       "│ 2        ┆ 2023-02-28     ┆ 2023-02-28    ┆ null          ┆ … ┆ 22.67        ┆ null          ┆ null        ┆ 228.0   │\n",
       "│          ┆ 23:03:03       ┆ 23:12:51      ┆               ┆   ┆              ┆               ┆             ┆         │\n",
       "└──────────┴────────────────┴───────────────┴───────────────┴───┴──────────────┴───────────────┴─────────────┴─────────┘"
      ]
     },
     "execution_count": 34,
     "metadata": {},
     "output_type": "execute_result"
    }
   ],
   "source": [
    "(\n",
    "    df\n",
    "    .with_columns(\n",
    "        (pl.col('trip_distance') * 100).alias('new_col')\n",
    "    )\n",
    ")"
   ]
  },
  {
   "cell_type": "code",
   "execution_count": 35,
   "id": "27b192fe-30c9-4874-b46c-638318b74830",
   "metadata": {},
   "outputs": [
    {
     "data": {
      "text/html": [
       "<div><style>\n",
       ".dataframe > thead > tr,\n",
       ".dataframe > tbody > tr {\n",
       "  text-align: right;\n",
       "  white-space: pre-wrap;\n",
       "}\n",
       "</style>\n",
       "<small>shape: (2_913_955, 20)</small><table border=\"1\" class=\"dataframe\"><thead><tr><th>VendorID</th><th>tpep_pickup_datetime</th><th>tpep_dropoff_datetime</th><th>passenger_count</th><th>trip_distance</th><th>RatecodeID</th><th>store_and_fwd_flag</th><th>PULocationID</th><th>DOLocationID</th><th>payment_type</th><th>fare_amount</th><th>extra</th><th>mta_tax</th><th>tip_amount</th><th>tolls_amount</th><th>improvement_surcharge</th><th>total_amount</th><th>congestion_surcharge</th><th>Airport_fee</th><th>new_col_1</th></tr><tr><td>i32</td><td>datetime[ns]</td><td>datetime[ns]</td><td>i64</td><td>f64</td><td>i64</td><td>str</td><td>i32</td><td>i32</td><td>i64</td><td>f64</td><td>f64</td><td>f64</td><td>f64</td><td>f64</td><td>f64</td><td>f64</td><td>f64</td><td>f64</td><td>f64</td></tr></thead><tbody><tr><td>1</td><td>2023-02-01 00:32:53</td><td>2023-02-01 00:34:34</td><td>2</td><td>0.3</td><td>1</td><td>&quot;N&quot;</td><td>142</td><td>163</td><td>2</td><td>4.4</td><td>3.5</td><td>0.5</td><td>0.0</td><td>0.0</td><td>1.0</td><td>9.4</td><td>2.5</td><td>0.0</td><td>3.0</td></tr><tr><td>2</td><td>2023-02-01 00:35:16</td><td>2023-02-01 00:35:30</td><td>1</td><td>0.0</td><td>1</td><td>&quot;N&quot;</td><td>71</td><td>71</td><td>4</td><td>-3.0</td><td>-1.0</td><td>-0.5</td><td>0.0</td><td>0.0</td><td>-1.0</td><td>-5.5</td><td>0.0</td><td>0.0</td><td>0.0</td></tr><tr><td>2</td><td>2023-02-01 00:35:16</td><td>2023-02-01 00:35:30</td><td>1</td><td>0.0</td><td>1</td><td>&quot;N&quot;</td><td>71</td><td>71</td><td>4</td><td>3.0</td><td>1.0</td><td>0.5</td><td>0.0</td><td>0.0</td><td>1.0</td><td>5.5</td><td>0.0</td><td>0.0</td><td>0.0</td></tr><tr><td>1</td><td>2023-02-01 00:29:33</td><td>2023-02-01 01:01:38</td><td>0</td><td>18.8</td><td>1</td><td>&quot;N&quot;</td><td>132</td><td>26</td><td>1</td><td>70.9</td><td>2.25</td><td>0.5</td><td>0.0</td><td>0.0</td><td>1.0</td><td>74.65</td><td>0.0</td><td>1.25</td><td>188.0</td></tr><tr><td>2</td><td>2023-02-01 00:12:28</td><td>2023-02-01 00:25:46</td><td>1</td><td>3.22</td><td>1</td><td>&quot;N&quot;</td><td>161</td><td>145</td><td>1</td><td>17.0</td><td>1.0</td><td>0.5</td><td>3.3</td><td>0.0</td><td>1.0</td><td>25.3</td><td>2.5</td><td>0.0</td><td>32.2</td></tr><tr><td>&hellip;</td><td>&hellip;</td><td>&hellip;</td><td>&hellip;</td><td>&hellip;</td><td>&hellip;</td><td>&hellip;</td><td>&hellip;</td><td>&hellip;</td><td>&hellip;</td><td>&hellip;</td><td>&hellip;</td><td>&hellip;</td><td>&hellip;</td><td>&hellip;</td><td>&hellip;</td><td>&hellip;</td><td>&hellip;</td><td>&hellip;</td><td>&hellip;</td></tr><tr><td>2</td><td>2023-02-28 23:46:00</td><td>2023-03-01 00:05:00</td><td>null</td><td>4.65</td><td>null</td><td>null</td><td>249</td><td>140</td><td>0</td><td>20.22</td><td>0.0</td><td>0.5</td><td>4.84</td><td>0.0</td><td>1.0</td><td>29.06</td><td>null</td><td>null</td><td>46.5</td></tr><tr><td>2</td><td>2023-02-28 23:26:02</td><td>2023-02-28 23:37:10</td><td>null</td><td>2.47</td><td>null</td><td>null</td><td>186</td><td>79</td><td>0</td><td>13.66</td><td>0.0</td><td>0.5</td><td>2.65</td><td>0.0</td><td>1.0</td><td>20.31</td><td>null</td><td>null</td><td>24.7</td></tr><tr><td>2</td><td>2023-02-28 23:24:00</td><td>2023-02-28 23:38:00</td><td>null</td><td>3.49</td><td>null</td><td>null</td><td>158</td><td>143</td><td>0</td><td>17.64</td><td>0.0</td><td>0.5</td><td>0.0</td><td>0.0</td><td>1.0</td><td>21.64</td><td>null</td><td>null</td><td>34.9</td></tr><tr><td>2</td><td>2023-02-28 23:03:00</td><td>2023-02-28 23:10:00</td><td>null</td><td>2.13</td><td>null</td><td>null</td><td>79</td><td>162</td><td>0</td><td>13.56</td><td>0.0</td><td>0.5</td><td>2.63</td><td>0.0</td><td>1.0</td><td>20.19</td><td>null</td><td>null</td><td>21.3</td></tr><tr><td>2</td><td>2023-02-28 23:03:03</td><td>2023-02-28 23:12:51</td><td>null</td><td>2.28</td><td>null</td><td>null</td><td>161</td><td>140</td><td>0</td><td>14.89</td><td>0.0</td><td>0.5</td><td>3.78</td><td>0.0</td><td>1.0</td><td>22.67</td><td>null</td><td>null</td><td>22.8</td></tr></tbody></table></div>"
      ],
      "text/plain": [
       "shape: (2_913_955, 20)\n",
       "┌──────────┬───────────────┬───────────────┬───────────────┬───┬──────────────┬──────────────┬─────────────┬───────────┐\n",
       "│ VendorID ┆ tpep_pickup_d ┆ tpep_dropoff_ ┆ passenger_cou ┆ … ┆ total_amount ┆ congestion_s ┆ Airport_fee ┆ new_col_1 │\n",
       "│ ---      ┆ atetime       ┆ datetime      ┆ nt            ┆   ┆ ---          ┆ urcharge     ┆ ---         ┆ ---       │\n",
       "│ i32      ┆ ---           ┆ ---           ┆ ---           ┆   ┆ f64          ┆ ---          ┆ f64         ┆ f64       │\n",
       "│          ┆ datetime[ns]  ┆ datetime[ns]  ┆ i64           ┆   ┆              ┆ f64          ┆             ┆           │\n",
       "╞══════════╪═══════════════╪═══════════════╪═══════════════╪═══╪══════════════╪══════════════╪═════════════╪═══════════╡\n",
       "│ 1        ┆ 2023-02-01    ┆ 2023-02-01    ┆ 2             ┆ … ┆ 9.4          ┆ 2.5          ┆ 0.0         ┆ 3.0       │\n",
       "│          ┆ 00:32:53      ┆ 00:34:34      ┆               ┆   ┆              ┆              ┆             ┆           │\n",
       "│ 2        ┆ 2023-02-01    ┆ 2023-02-01    ┆ 1             ┆ … ┆ -5.5         ┆ 0.0          ┆ 0.0         ┆ 0.0       │\n",
       "│          ┆ 00:35:16      ┆ 00:35:30      ┆               ┆   ┆              ┆              ┆             ┆           │\n",
       "│ 2        ┆ 2023-02-01    ┆ 2023-02-01    ┆ 1             ┆ … ┆ 5.5          ┆ 0.0          ┆ 0.0         ┆ 0.0       │\n",
       "│          ┆ 00:35:16      ┆ 00:35:30      ┆               ┆   ┆              ┆              ┆             ┆           │\n",
       "│ 1        ┆ 2023-02-01    ┆ 2023-02-01    ┆ 0             ┆ … ┆ 74.65        ┆ 0.0          ┆ 1.25        ┆ 188.0     │\n",
       "│          ┆ 00:29:33      ┆ 01:01:38      ┆               ┆   ┆              ┆              ┆             ┆           │\n",
       "│ 2        ┆ 2023-02-01    ┆ 2023-02-01    ┆ 1             ┆ … ┆ 25.3         ┆ 2.5          ┆ 0.0         ┆ 32.2      │\n",
       "│          ┆ 00:12:28      ┆ 00:25:46      ┆               ┆   ┆              ┆              ┆             ┆           │\n",
       "│ …        ┆ …             ┆ …             ┆ …             ┆ … ┆ …            ┆ …            ┆ …           ┆ …         │\n",
       "│ 2        ┆ 2023-02-28    ┆ 2023-03-01    ┆ null          ┆ … ┆ 29.06        ┆ null         ┆ null        ┆ 46.5      │\n",
       "│          ┆ 23:46:00      ┆ 00:05:00      ┆               ┆   ┆              ┆              ┆             ┆           │\n",
       "│ 2        ┆ 2023-02-28    ┆ 2023-02-28    ┆ null          ┆ … ┆ 20.31        ┆ null         ┆ null        ┆ 24.7      │\n",
       "│          ┆ 23:26:02      ┆ 23:37:10      ┆               ┆   ┆              ┆              ┆             ┆           │\n",
       "│ 2        ┆ 2023-02-28    ┆ 2023-02-28    ┆ null          ┆ … ┆ 21.64        ┆ null         ┆ null        ┆ 34.9      │\n",
       "│          ┆ 23:24:00      ┆ 23:38:00      ┆               ┆   ┆              ┆              ┆             ┆           │\n",
       "│ 2        ┆ 2023-02-28    ┆ 2023-02-28    ┆ null          ┆ … ┆ 20.19        ┆ null         ┆ null        ┆ 21.3      │\n",
       "│          ┆ 23:03:00      ┆ 23:10:00      ┆               ┆   ┆              ┆              ┆             ┆           │\n",
       "│ 2        ┆ 2023-02-28    ┆ 2023-02-28    ┆ null          ┆ … ┆ 22.67        ┆ null         ┆ null        ┆ 22.8      │\n",
       "│          ┆ 23:03:03      ┆ 23:12:51      ┆               ┆   ┆              ┆              ┆             ┆           │\n",
       "└──────────┴───────────────┴───────────────┴───────────────┴───┴──────────────┴──────────────┴─────────────┴───────────┘"
      ]
     },
     "execution_count": 35,
     "metadata": {},
     "output_type": "execute_result"
    }
   ],
   "source": [
    "# Adding new col with using argument for naming.\n",
    "(\n",
    "    df\n",
    "    .with_columns(\n",
    "        new_col_1 = (pl.col('trip_distance') * 10)\n",
    "    )\n",
    ")"
   ]
  },
  {
   "cell_type": "code",
   "execution_count": 38,
   "id": "587903e0-5233-48e8-b60c-cacc0160eea5",
   "metadata": {},
   "outputs": [
    {
     "data": {
      "text/html": [
       "<div><style>\n",
       ".dataframe > thead > tr,\n",
       ".dataframe > tbody > tr {\n",
       "  text-align: right;\n",
       "  white-space: pre-wrap;\n",
       "}\n",
       "</style>\n",
       "<small>shape: (2_913_955, 19)</small><table border=\"1\" class=\"dataframe\"><thead><tr><th>VendorID</th><th>tpep_pickup_datetime</th><th>tpep_dropoff_datetime</th><th>passenger_count</th><th>trip_distance</th><th>RatecodeID</th><th>store_and_fwd_flag</th><th>PULocationID</th><th>DOLocationID</th><th>payment_type</th><th>fare_amount</th><th>extra</th><th>mta_tax</th><th>tip_amount</th><th>tolls_amount</th><th>improvement_surcharge</th><th>total_amount</th><th>congestion_surcharge</th><th>Airport_fee</th></tr><tr><td>i32</td><td>datetime[ns]</td><td>datetime[ns]</td><td>i64</td><td>f64</td><td>i64</td><td>str</td><td>i32</td><td>i32</td><td>i64</td><td>f64</td><td>f64</td><td>f64</td><td>f64</td><td>f64</td><td>f64</td><td>f64</td><td>f64</td><td>f64</td></tr></thead><tbody><tr><td>1</td><td>2023-02-01 00:32:53</td><td>2023-02-01 00:34:34</td><td>20</td><td>0.3</td><td>1</td><td>&quot;N&quot;</td><td>142</td><td>163</td><td>2</td><td>4.4</td><td>3.5</td><td>0.5</td><td>0.0</td><td>0.0</td><td>1.0</td><td>9.4</td><td>2.5</td><td>0.0</td></tr><tr><td>2</td><td>2023-02-01 00:35:16</td><td>2023-02-01 00:35:30</td><td>10</td><td>0.0</td><td>1</td><td>&quot;N&quot;</td><td>71</td><td>71</td><td>4</td><td>-3.0</td><td>-1.0</td><td>-0.5</td><td>0.0</td><td>0.0</td><td>-1.0</td><td>-5.5</td><td>0.0</td><td>0.0</td></tr><tr><td>2</td><td>2023-02-01 00:35:16</td><td>2023-02-01 00:35:30</td><td>10</td><td>0.0</td><td>1</td><td>&quot;N&quot;</td><td>71</td><td>71</td><td>4</td><td>3.0</td><td>1.0</td><td>0.5</td><td>0.0</td><td>0.0</td><td>1.0</td><td>5.5</td><td>0.0</td><td>0.0</td></tr><tr><td>1</td><td>2023-02-01 00:29:33</td><td>2023-02-01 01:01:38</td><td>0</td><td>18.8</td><td>1</td><td>&quot;N&quot;</td><td>132</td><td>26</td><td>1</td><td>70.9</td><td>2.25</td><td>0.5</td><td>0.0</td><td>0.0</td><td>1.0</td><td>74.65</td><td>0.0</td><td>1.25</td></tr><tr><td>2</td><td>2023-02-01 00:12:28</td><td>2023-02-01 00:25:46</td><td>10</td><td>3.22</td><td>1</td><td>&quot;N&quot;</td><td>161</td><td>145</td><td>1</td><td>17.0</td><td>1.0</td><td>0.5</td><td>3.3</td><td>0.0</td><td>1.0</td><td>25.3</td><td>2.5</td><td>0.0</td></tr><tr><td>&hellip;</td><td>&hellip;</td><td>&hellip;</td><td>&hellip;</td><td>&hellip;</td><td>&hellip;</td><td>&hellip;</td><td>&hellip;</td><td>&hellip;</td><td>&hellip;</td><td>&hellip;</td><td>&hellip;</td><td>&hellip;</td><td>&hellip;</td><td>&hellip;</td><td>&hellip;</td><td>&hellip;</td><td>&hellip;</td><td>&hellip;</td></tr><tr><td>2</td><td>2023-02-28 23:46:00</td><td>2023-03-01 00:05:00</td><td>null</td><td>4.65</td><td>null</td><td>null</td><td>249</td><td>140</td><td>0</td><td>20.22</td><td>0.0</td><td>0.5</td><td>4.84</td><td>0.0</td><td>1.0</td><td>29.06</td><td>null</td><td>null</td></tr><tr><td>2</td><td>2023-02-28 23:26:02</td><td>2023-02-28 23:37:10</td><td>null</td><td>2.47</td><td>null</td><td>null</td><td>186</td><td>79</td><td>0</td><td>13.66</td><td>0.0</td><td>0.5</td><td>2.65</td><td>0.0</td><td>1.0</td><td>20.31</td><td>null</td><td>null</td></tr><tr><td>2</td><td>2023-02-28 23:24:00</td><td>2023-02-28 23:38:00</td><td>null</td><td>3.49</td><td>null</td><td>null</td><td>158</td><td>143</td><td>0</td><td>17.64</td><td>0.0</td><td>0.5</td><td>0.0</td><td>0.0</td><td>1.0</td><td>21.64</td><td>null</td><td>null</td></tr><tr><td>2</td><td>2023-02-28 23:03:00</td><td>2023-02-28 23:10:00</td><td>null</td><td>2.13</td><td>null</td><td>null</td><td>79</td><td>162</td><td>0</td><td>13.56</td><td>0.0</td><td>0.5</td><td>2.63</td><td>0.0</td><td>1.0</td><td>20.19</td><td>null</td><td>null</td></tr><tr><td>2</td><td>2023-02-28 23:03:03</td><td>2023-02-28 23:12:51</td><td>null</td><td>2.28</td><td>null</td><td>null</td><td>161</td><td>140</td><td>0</td><td>14.89</td><td>0.0</td><td>0.5</td><td>3.78</td><td>0.0</td><td>1.0</td><td>22.67</td><td>null</td><td>null</td></tr></tbody></table></div>"
      ],
      "text/plain": [
       "shape: (2_913_955, 19)\n",
       "┌──────────┬──────────────┬──────────────┬──────────────┬───┬──────────────┬──────────────┬──────────────┬─────────────┐\n",
       "│ VendorID ┆ tpep_pickup_ ┆ tpep_dropoff ┆ passenger_co ┆ … ┆ improvement_ ┆ total_amount ┆ congestion_s ┆ Airport_fee │\n",
       "│ ---      ┆ datetime     ┆ _datetime    ┆ unt          ┆   ┆ surcharge    ┆ ---          ┆ urcharge     ┆ ---         │\n",
       "│ i32      ┆ ---          ┆ ---          ┆ ---          ┆   ┆ ---          ┆ f64          ┆ ---          ┆ f64         │\n",
       "│          ┆ datetime[ns] ┆ datetime[ns] ┆ i64          ┆   ┆ f64          ┆              ┆ f64          ┆             │\n",
       "╞══════════╪══════════════╪══════════════╪══════════════╪═══╪══════════════╪══════════════╪══════════════╪═════════════╡\n",
       "│ 1        ┆ 2023-02-01   ┆ 2023-02-01   ┆ 20           ┆ … ┆ 1.0          ┆ 9.4          ┆ 2.5          ┆ 0.0         │\n",
       "│          ┆ 00:32:53     ┆ 00:34:34     ┆              ┆   ┆              ┆              ┆              ┆             │\n",
       "│ 2        ┆ 2023-02-01   ┆ 2023-02-01   ┆ 10           ┆ … ┆ -1.0         ┆ -5.5         ┆ 0.0          ┆ 0.0         │\n",
       "│          ┆ 00:35:16     ┆ 00:35:30     ┆              ┆   ┆              ┆              ┆              ┆             │\n",
       "│ 2        ┆ 2023-02-01   ┆ 2023-02-01   ┆ 10           ┆ … ┆ 1.0          ┆ 5.5          ┆ 0.0          ┆ 0.0         │\n",
       "│          ┆ 00:35:16     ┆ 00:35:30     ┆              ┆   ┆              ┆              ┆              ┆             │\n",
       "│ 1        ┆ 2023-02-01   ┆ 2023-02-01   ┆ 0            ┆ … ┆ 1.0          ┆ 74.65        ┆ 0.0          ┆ 1.25        │\n",
       "│          ┆ 00:29:33     ┆ 01:01:38     ┆              ┆   ┆              ┆              ┆              ┆             │\n",
       "│ 2        ┆ 2023-02-01   ┆ 2023-02-01   ┆ 10           ┆ … ┆ 1.0          ┆ 25.3         ┆ 2.5          ┆ 0.0         │\n",
       "│          ┆ 00:12:28     ┆ 00:25:46     ┆              ┆   ┆              ┆              ┆              ┆             │\n",
       "│ …        ┆ …            ┆ …            ┆ …            ┆ … ┆ …            ┆ …            ┆ …            ┆ …           │\n",
       "│ 2        ┆ 2023-02-28   ┆ 2023-03-01   ┆ null         ┆ … ┆ 1.0          ┆ 29.06        ┆ null         ┆ null        │\n",
       "│          ┆ 23:46:00     ┆ 00:05:00     ┆              ┆   ┆              ┆              ┆              ┆             │\n",
       "│ 2        ┆ 2023-02-28   ┆ 2023-02-28   ┆ null         ┆ … ┆ 1.0          ┆ 20.31        ┆ null         ┆ null        │\n",
       "│          ┆ 23:26:02     ┆ 23:37:10     ┆              ┆   ┆              ┆              ┆              ┆             │\n",
       "│ 2        ┆ 2023-02-28   ┆ 2023-02-28   ┆ null         ┆ … ┆ 1.0          ┆ 21.64        ┆ null         ┆ null        │\n",
       "│          ┆ 23:24:00     ┆ 23:38:00     ┆              ┆   ┆              ┆              ┆              ┆             │\n",
       "│ 2        ┆ 2023-02-28   ┆ 2023-02-28   ┆ null         ┆ … ┆ 1.0          ┆ 20.19        ┆ null         ┆ null        │\n",
       "│          ┆ 23:03:00     ┆ 23:10:00     ┆              ┆   ┆              ┆              ┆              ┆             │\n",
       "│ 2        ┆ 2023-02-28   ┆ 2023-02-28   ┆ null         ┆ … ┆ 1.0          ┆ 22.67        ┆ null         ┆ null        │\n",
       "│          ┆ 23:03:03     ┆ 23:12:51     ┆              ┆   ┆              ┆              ┆              ┆             │\n",
       "└──────────┴──────────────┴──────────────┴──────────────┴───┴──────────────┴──────────────┴──────────────┴─────────────┘"
      ]
     },
     "execution_count": 38,
     "metadata": {},
     "output_type": "execute_result"
    }
   ],
   "source": [
    "# Overwriting already existing col with new values\n",
    "(\n",
    "    df\n",
    "    .with_columns(\n",
    "        pl.col('passenger_count') * 10\n",
    "    )\n",
    ")"
   ]
  },
  {
   "cell_type": "markdown",
   "id": "1a0fe96c-89b2-478d-8eaa-f9f8c6b4977e",
   "metadata": {},
   "source": [
    "# Using **.drop()** to drop the cols from DF"
   ]
  },
  {
   "cell_type": "code",
   "execution_count": 42,
   "id": "010fe16c-a562-442d-86c2-894db297195d",
   "metadata": {},
   "outputs": [
    {
     "name": "stdout",
     "output_type": "stream",
     "text": [
      "(2913955, 19)\n"
     ]
    },
    {
     "data": {
      "text/html": [
       "<div><style>\n",
       ".dataframe > thead > tr,\n",
       ".dataframe > tbody > tr {\n",
       "  text-align: right;\n",
       "  white-space: pre-wrap;\n",
       "}\n",
       "</style>\n",
       "<small>shape: (2_913_955, 18)</small><table border=\"1\" class=\"dataframe\"><thead><tr><th>VendorID</th><th>tpep_pickup_datetime</th><th>tpep_dropoff_datetime</th><th>passenger_count</th><th>RatecodeID</th><th>store_and_fwd_flag</th><th>PULocationID</th><th>DOLocationID</th><th>payment_type</th><th>fare_amount</th><th>extra</th><th>mta_tax</th><th>tip_amount</th><th>tolls_amount</th><th>improvement_surcharge</th><th>total_amount</th><th>congestion_surcharge</th><th>Airport_fee</th></tr><tr><td>i32</td><td>datetime[ns]</td><td>datetime[ns]</td><td>i64</td><td>i64</td><td>str</td><td>i32</td><td>i32</td><td>i64</td><td>f64</td><td>f64</td><td>f64</td><td>f64</td><td>f64</td><td>f64</td><td>f64</td><td>f64</td><td>f64</td></tr></thead><tbody><tr><td>1</td><td>2023-02-01 00:32:53</td><td>2023-02-01 00:34:34</td><td>2</td><td>1</td><td>&quot;N&quot;</td><td>142</td><td>163</td><td>2</td><td>4.4</td><td>3.5</td><td>0.5</td><td>0.0</td><td>0.0</td><td>1.0</td><td>9.4</td><td>2.5</td><td>0.0</td></tr><tr><td>2</td><td>2023-02-01 00:35:16</td><td>2023-02-01 00:35:30</td><td>1</td><td>1</td><td>&quot;N&quot;</td><td>71</td><td>71</td><td>4</td><td>-3.0</td><td>-1.0</td><td>-0.5</td><td>0.0</td><td>0.0</td><td>-1.0</td><td>-5.5</td><td>0.0</td><td>0.0</td></tr><tr><td>2</td><td>2023-02-01 00:35:16</td><td>2023-02-01 00:35:30</td><td>1</td><td>1</td><td>&quot;N&quot;</td><td>71</td><td>71</td><td>4</td><td>3.0</td><td>1.0</td><td>0.5</td><td>0.0</td><td>0.0</td><td>1.0</td><td>5.5</td><td>0.0</td><td>0.0</td></tr><tr><td>1</td><td>2023-02-01 00:29:33</td><td>2023-02-01 01:01:38</td><td>0</td><td>1</td><td>&quot;N&quot;</td><td>132</td><td>26</td><td>1</td><td>70.9</td><td>2.25</td><td>0.5</td><td>0.0</td><td>0.0</td><td>1.0</td><td>74.65</td><td>0.0</td><td>1.25</td></tr><tr><td>2</td><td>2023-02-01 00:12:28</td><td>2023-02-01 00:25:46</td><td>1</td><td>1</td><td>&quot;N&quot;</td><td>161</td><td>145</td><td>1</td><td>17.0</td><td>1.0</td><td>0.5</td><td>3.3</td><td>0.0</td><td>1.0</td><td>25.3</td><td>2.5</td><td>0.0</td></tr><tr><td>&hellip;</td><td>&hellip;</td><td>&hellip;</td><td>&hellip;</td><td>&hellip;</td><td>&hellip;</td><td>&hellip;</td><td>&hellip;</td><td>&hellip;</td><td>&hellip;</td><td>&hellip;</td><td>&hellip;</td><td>&hellip;</td><td>&hellip;</td><td>&hellip;</td><td>&hellip;</td><td>&hellip;</td><td>&hellip;</td></tr><tr><td>2</td><td>2023-02-28 23:46:00</td><td>2023-03-01 00:05:00</td><td>null</td><td>null</td><td>null</td><td>249</td><td>140</td><td>0</td><td>20.22</td><td>0.0</td><td>0.5</td><td>4.84</td><td>0.0</td><td>1.0</td><td>29.06</td><td>null</td><td>null</td></tr><tr><td>2</td><td>2023-02-28 23:26:02</td><td>2023-02-28 23:37:10</td><td>null</td><td>null</td><td>null</td><td>186</td><td>79</td><td>0</td><td>13.66</td><td>0.0</td><td>0.5</td><td>2.65</td><td>0.0</td><td>1.0</td><td>20.31</td><td>null</td><td>null</td></tr><tr><td>2</td><td>2023-02-28 23:24:00</td><td>2023-02-28 23:38:00</td><td>null</td><td>null</td><td>null</td><td>158</td><td>143</td><td>0</td><td>17.64</td><td>0.0</td><td>0.5</td><td>0.0</td><td>0.0</td><td>1.0</td><td>21.64</td><td>null</td><td>null</td></tr><tr><td>2</td><td>2023-02-28 23:03:00</td><td>2023-02-28 23:10:00</td><td>null</td><td>null</td><td>null</td><td>79</td><td>162</td><td>0</td><td>13.56</td><td>0.0</td><td>0.5</td><td>2.63</td><td>0.0</td><td>1.0</td><td>20.19</td><td>null</td><td>null</td></tr><tr><td>2</td><td>2023-02-28 23:03:03</td><td>2023-02-28 23:12:51</td><td>null</td><td>null</td><td>null</td><td>161</td><td>140</td><td>0</td><td>14.89</td><td>0.0</td><td>0.5</td><td>3.78</td><td>0.0</td><td>1.0</td><td>22.67</td><td>null</td><td>null</td></tr></tbody></table></div>"
      ],
      "text/plain": [
       "shape: (2_913_955, 18)\n",
       "┌──────────┬──────────────┬──────────────┬──────────────┬───┬──────────────┬──────────────┬──────────────┬─────────────┐\n",
       "│ VendorID ┆ tpep_pickup_ ┆ tpep_dropoff ┆ passenger_co ┆ … ┆ improvement_ ┆ total_amount ┆ congestion_s ┆ Airport_fee │\n",
       "│ ---      ┆ datetime     ┆ _datetime    ┆ unt          ┆   ┆ surcharge    ┆ ---          ┆ urcharge     ┆ ---         │\n",
       "│ i32      ┆ ---          ┆ ---          ┆ ---          ┆   ┆ ---          ┆ f64          ┆ ---          ┆ f64         │\n",
       "│          ┆ datetime[ns] ┆ datetime[ns] ┆ i64          ┆   ┆ f64          ┆              ┆ f64          ┆             │\n",
       "╞══════════╪══════════════╪══════════════╪══════════════╪═══╪══════════════╪══════════════╪══════════════╪═════════════╡\n",
       "│ 1        ┆ 2023-02-01   ┆ 2023-02-01   ┆ 2            ┆ … ┆ 1.0          ┆ 9.4          ┆ 2.5          ┆ 0.0         │\n",
       "│          ┆ 00:32:53     ┆ 00:34:34     ┆              ┆   ┆              ┆              ┆              ┆             │\n",
       "│ 2        ┆ 2023-02-01   ┆ 2023-02-01   ┆ 1            ┆ … ┆ -1.0         ┆ -5.5         ┆ 0.0          ┆ 0.0         │\n",
       "│          ┆ 00:35:16     ┆ 00:35:30     ┆              ┆   ┆              ┆              ┆              ┆             │\n",
       "│ 2        ┆ 2023-02-01   ┆ 2023-02-01   ┆ 1            ┆ … ┆ 1.0          ┆ 5.5          ┆ 0.0          ┆ 0.0         │\n",
       "│          ┆ 00:35:16     ┆ 00:35:30     ┆              ┆   ┆              ┆              ┆              ┆             │\n",
       "│ 1        ┆ 2023-02-01   ┆ 2023-02-01   ┆ 0            ┆ … ┆ 1.0          ┆ 74.65        ┆ 0.0          ┆ 1.25        │\n",
       "│          ┆ 00:29:33     ┆ 01:01:38     ┆              ┆   ┆              ┆              ┆              ┆             │\n",
       "│ 2        ┆ 2023-02-01   ┆ 2023-02-01   ┆ 1            ┆ … ┆ 1.0          ┆ 25.3         ┆ 2.5          ┆ 0.0         │\n",
       "│          ┆ 00:12:28     ┆ 00:25:46     ┆              ┆   ┆              ┆              ┆              ┆             │\n",
       "│ …        ┆ …            ┆ …            ┆ …            ┆ … ┆ …            ┆ …            ┆ …            ┆ …           │\n",
       "│ 2        ┆ 2023-02-28   ┆ 2023-03-01   ┆ null         ┆ … ┆ 1.0          ┆ 29.06        ┆ null         ┆ null        │\n",
       "│          ┆ 23:46:00     ┆ 00:05:00     ┆              ┆   ┆              ┆              ┆              ┆             │\n",
       "│ 2        ┆ 2023-02-28   ┆ 2023-02-28   ┆ null         ┆ … ┆ 1.0          ┆ 20.31        ┆ null         ┆ null        │\n",
       "│          ┆ 23:26:02     ┆ 23:37:10     ┆              ┆   ┆              ┆              ┆              ┆             │\n",
       "│ 2        ┆ 2023-02-28   ┆ 2023-02-28   ┆ null         ┆ … ┆ 1.0          ┆ 21.64        ┆ null         ┆ null        │\n",
       "│          ┆ 23:24:00     ┆ 23:38:00     ┆              ┆   ┆              ┆              ┆              ┆             │\n",
       "│ 2        ┆ 2023-02-28   ┆ 2023-02-28   ┆ null         ┆ … ┆ 1.0          ┆ 20.19        ┆ null         ┆ null        │\n",
       "│          ┆ 23:03:00     ┆ 23:10:00     ┆              ┆   ┆              ┆              ┆              ┆             │\n",
       "│ 2        ┆ 2023-02-28   ┆ 2023-02-28   ┆ null         ┆ … ┆ 1.0          ┆ 22.67        ┆ null         ┆ null        │\n",
       "│          ┆ 23:03:03     ┆ 23:12:51     ┆              ┆   ┆              ┆              ┆              ┆             │\n",
       "└──────────┴──────────────┴──────────────┴──────────────┴───┴──────────────┴──────────────┴──────────────┴─────────────┘"
      ]
     },
     "execution_count": 42,
     "metadata": {},
     "output_type": "execute_result"
    }
   ],
   "source": [
    "print(df.shape)\n",
    "(\n",
    "    df\n",
    "    .drop(['trip_distance'])\n",
    ")"
   ]
  },
  {
   "cell_type": "markdown",
   "id": "9c95e425-7999-4735-a789-f8b4ed97a943",
   "metadata": {},
   "source": [
    "# Using **.rename()** to rename the cols"
   ]
  },
  {
   "cell_type": "code",
   "execution_count": 43,
   "id": "ccc81883-331b-4550-9246-e79539a9d5f3",
   "metadata": {},
   "outputs": [
    {
     "data": {
      "text/html": [
       "<div><style>\n",
       ".dataframe > thead > tr,\n",
       ".dataframe > tbody > tr {\n",
       "  text-align: right;\n",
       "  white-space: pre-wrap;\n",
       "}\n",
       "</style>\n",
       "<small>shape: (5, 19)</small><table border=\"1\" class=\"dataframe\"><thead><tr><th>vendor_id</th><th>tpep_pickup_datetime</th><th>tpep_dropoff_datetime</th><th>passenger_count</th><th>trip_distance</th><th>ratecode_id</th><th>store_and_fwd_flag</th><th>pu_location_id</th><th>do_location_id</th><th>payment_type</th><th>fare_amount</th><th>extra</th><th>mta_tax</th><th>tip_amount</th><th>tolls_amount</th><th>improvement_surcharge</th><th>total_amount</th><th>congestion_surcharge</th><th>airport_fee</th></tr><tr><td>i32</td><td>datetime[ns]</td><td>datetime[ns]</td><td>i64</td><td>f64</td><td>i64</td><td>str</td><td>i32</td><td>i32</td><td>i64</td><td>f64</td><td>f64</td><td>f64</td><td>f64</td><td>f64</td><td>f64</td><td>f64</td><td>f64</td><td>f64</td></tr></thead><tbody><tr><td>1</td><td>2023-02-01 00:32:53</td><td>2023-02-01 00:34:34</td><td>2</td><td>0.3</td><td>1</td><td>&quot;N&quot;</td><td>142</td><td>163</td><td>2</td><td>4.4</td><td>3.5</td><td>0.5</td><td>0.0</td><td>0.0</td><td>1.0</td><td>9.4</td><td>2.5</td><td>0.0</td></tr><tr><td>2</td><td>2023-02-01 00:35:16</td><td>2023-02-01 00:35:30</td><td>1</td><td>0.0</td><td>1</td><td>&quot;N&quot;</td><td>71</td><td>71</td><td>4</td><td>-3.0</td><td>-1.0</td><td>-0.5</td><td>0.0</td><td>0.0</td><td>-1.0</td><td>-5.5</td><td>0.0</td><td>0.0</td></tr><tr><td>2</td><td>2023-02-01 00:35:16</td><td>2023-02-01 00:35:30</td><td>1</td><td>0.0</td><td>1</td><td>&quot;N&quot;</td><td>71</td><td>71</td><td>4</td><td>3.0</td><td>1.0</td><td>0.5</td><td>0.0</td><td>0.0</td><td>1.0</td><td>5.5</td><td>0.0</td><td>0.0</td></tr><tr><td>1</td><td>2023-02-01 00:29:33</td><td>2023-02-01 01:01:38</td><td>0</td><td>18.8</td><td>1</td><td>&quot;N&quot;</td><td>132</td><td>26</td><td>1</td><td>70.9</td><td>2.25</td><td>0.5</td><td>0.0</td><td>0.0</td><td>1.0</td><td>74.65</td><td>0.0</td><td>1.25</td></tr><tr><td>2</td><td>2023-02-01 00:12:28</td><td>2023-02-01 00:25:46</td><td>1</td><td>3.22</td><td>1</td><td>&quot;N&quot;</td><td>161</td><td>145</td><td>1</td><td>17.0</td><td>1.0</td><td>0.5</td><td>3.3</td><td>0.0</td><td>1.0</td><td>25.3</td><td>2.5</td><td>0.0</td></tr></tbody></table></div>"
      ],
      "text/plain": [
       "shape: (5, 19)\n",
       "┌───────────┬──────────────┬──────────────┬──────────────┬───┬──────────────┬──────────────┬─────────────┬─────────────┐\n",
       "│ vendor_id ┆ tpep_pickup_ ┆ tpep_dropoff ┆ passenger_co ┆ … ┆ improvement_ ┆ total_amount ┆ congestion_ ┆ airport_fee │\n",
       "│ ---       ┆ datetime     ┆ _datetime    ┆ unt          ┆   ┆ surcharge    ┆ ---          ┆ surcharge   ┆ ---         │\n",
       "│ i32       ┆ ---          ┆ ---          ┆ ---          ┆   ┆ ---          ┆ f64          ┆ ---         ┆ f64         │\n",
       "│           ┆ datetime[ns] ┆ datetime[ns] ┆ i64          ┆   ┆ f64          ┆              ┆ f64         ┆             │\n",
       "╞═══════════╪══════════════╪══════════════╪══════════════╪═══╪══════════════╪══════════════╪═════════════╪═════════════╡\n",
       "│ 1         ┆ 2023-02-01   ┆ 2023-02-01   ┆ 2            ┆ … ┆ 1.0          ┆ 9.4          ┆ 2.5         ┆ 0.0         │\n",
       "│           ┆ 00:32:53     ┆ 00:34:34     ┆              ┆   ┆              ┆              ┆             ┆             │\n",
       "│ 2         ┆ 2023-02-01   ┆ 2023-02-01   ┆ 1            ┆ … ┆ -1.0         ┆ -5.5         ┆ 0.0         ┆ 0.0         │\n",
       "│           ┆ 00:35:16     ┆ 00:35:30     ┆              ┆   ┆              ┆              ┆             ┆             │\n",
       "│ 2         ┆ 2023-02-01   ┆ 2023-02-01   ┆ 1            ┆ … ┆ 1.0          ┆ 5.5          ┆ 0.0         ┆ 0.0         │\n",
       "│           ┆ 00:35:16     ┆ 00:35:30     ┆              ┆   ┆              ┆              ┆             ┆             │\n",
       "│ 1         ┆ 2023-02-01   ┆ 2023-02-01   ┆ 0            ┆ … ┆ 1.0          ┆ 74.65        ┆ 0.0         ┆ 1.25        │\n",
       "│           ┆ 00:29:33     ┆ 01:01:38     ┆              ┆   ┆              ┆              ┆             ┆             │\n",
       "│ 2         ┆ 2023-02-01   ┆ 2023-02-01   ┆ 1            ┆ … ┆ 1.0          ┆ 25.3         ┆ 2.5         ┆ 0.0         │\n",
       "│           ┆ 00:12:28     ┆ 00:25:46     ┆              ┆   ┆              ┆              ┆             ┆             │\n",
       "└───────────┴──────────────┴──────────────┴──────────────┴───┴──────────────┴──────────────┴─────────────┴─────────────┘"
      ]
     },
     "execution_count": 43,
     "metadata": {},
     "output_type": "execute_result"
    }
   ],
   "source": [
    "column_rename_mapping = {\n",
    "    \"VendorID\": \"vendor_id\",\n",
    "    \"RatecodeID\": \"ratecode_id\",\n",
    "    \"PULocationID\": \"pu_location_id\",\n",
    "    \"DOLocationID\": \"do_location_id\",\n",
    "    \"Airport_fee\": \"airport_fee\",\n",
    "}\n",
    "(\n",
    "    df\n",
    "    .rename(column_rename_mapping)\n",
    "    .head()\n",
    ")"
   ]
  },
  {
   "cell_type": "code",
   "execution_count": null,
   "id": "3901f9ce-0365-42ad-8000-62c0367fc259",
   "metadata": {},
   "outputs": [],
   "source": []
  }
 ],
 "metadata": {
  "kernelspec": {
   "display_name": "Python 3 (ipykernel)",
   "language": "python",
   "name": "python3"
  },
  "language_info": {
   "codemirror_mode": {
    "name": "ipython",
    "version": 3
   },
   "file_extension": ".py",
   "mimetype": "text/x-python",
   "name": "python",
   "nbconvert_exporter": "python",
   "pygments_lexer": "ipython3",
   "version": "3.10.1"
  }
 },
 "nbformat": 4,
 "nbformat_minor": 5
}
