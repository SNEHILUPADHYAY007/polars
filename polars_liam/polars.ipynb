{
 "cells": [
  {
   "cell_type": "code",
   "execution_count": null,
   "id": "2d086b4c-43bb-44fd-8167-f7c5888e5c8c",
   "metadata": {},
   "outputs": [],
   "source": []
  },
  {
   "cell_type": "markdown",
   "id": "3861197a-6b32-4a30-8d62-b6523966434a",
   "metadata": {},
   "source": [
    "# Importing Libraries\n",
    "### Dataset used\n",
    "https://www.kaggle.com/datasets/sobhanmoosavi/us-accidents/code"
   ]
  },
  {
   "cell_type": "code",
   "execution_count": 1,
   "id": "f72870a4-2826-4ad0-aa19-6e11ac8f473b",
   "metadata": {
    "editable": true,
    "slideshow": {
     "slide_type": ""
    },
    "tags": []
   },
   "outputs": [],
   "source": [
    "import polars as pl\n",
    "import pandas as pd"
   ]
  },
  {
   "cell_type": "markdown",
   "id": "ce5916d7-e924-40b4-870c-29643e37b73a",
   "metadata": {},
   "source": [
    "# Comparing Polars and Pandas Speed\n",
    "looping 2times and repetition 4times = 8times time measurement\n",
    "### Observation:- \n",
    "Kept loop = 1 and repetition = 1 for pandas and it took __1min 1s__\n",
    "whereas kept loop = 2 and repetition = 4 for polars and it took __4.86s+-842ms__"
   ]
  },
  {
   "cell_type": "code",
   "execution_count": 3,
   "id": "3a0aa572-7757-4bdd-be21-1b825284cb6f",
   "metadata": {},
   "outputs": [
    {
     "name": "stdout",
     "output_type": "stream",
     "text": [
      "4.86 s ± 842 ms per loop (mean ± std. dev. of 4 runs, 2 loops each)\n"
     ]
    }
   ],
   "source": [
    "%%timeit -n2 -r4\n",
    "# Polars reading speed\n",
    "sample_data = 'sample-data/US_Accidents_March23.csv'\n",
    "df = pl.read_csv(sample_data)\n",
    "\n",
    "\n"
   ]
  },
  {
   "cell_type": "code",
   "execution_count": 2,
   "id": "557fb99e-9aa3-4cee-8cd7-fea3f29fec67",
   "metadata": {},
   "outputs": [
    {
     "name": "stdout",
     "output_type": "stream",
     "text": [
      "1min 1s ± 0 ns per loop (mean ± std. dev. of 1 run, 1 loop each)\n"
     ]
    }
   ],
   "source": [
    "%%timeit -n1 -r1\n",
    "# Pandas reading speed\n",
    "sample_data = 'sample-data/US_Accidents_March23.csv'\n",
    "df = pd.read_csv(sample_data)"
   ]
  },
  {
   "cell_type": "code",
   "execution_count": 4,
   "id": "8a6e2443-8517-402f-ae29-54be9d09cd59",
   "metadata": {},
   "outputs": [
    {
     "name": "stdout",
     "output_type": "stream",
     "text": [
      "Rows: 7728394\n",
      "Columns: 46\n",
      "$ ID                     <str> 'A-1', 'A-2', 'A-3', 'A-4', 'A-5', 'A-6', 'A-7', 'A-8', 'A-9', 'A-10'\n",
      "$ Source                 <str> 'Source2', 'Source2', 'Source2', 'Source2', 'Source2', 'Source2', 'Source2', 'Source2', 'Source2', 'Source2'\n",
      "$ Severity               <i64> 3, 2, 2, 3, 2, 3, 2, 3, 2, 3\n",
      "$ Start_Time             <str> '2016-02-08 05:46:00', '2016-02-08 06:07:59', '2016-02-08 06:49:27', '2016-02-08 07:23:34', '2016-02-08 07:39:07', '2016-02-08 07:44:26', '2016-02-08 07:59:35', '2016-02-08 07:59:58', '2016-02-08 08:00:40', '2016-02-08 08:10:04'\n",
      "$ End_Time               <str> '2016-02-08 11:00:00', '2016-02-08 06:37:59', '2016-02-08 07:19:27', '2016-02-08 07:53:34', '2016-02-08 08:09:07', '2016-02-08 08:14:26', '2016-02-08 08:29:35', '2016-02-08 08:29:58', '2016-02-08 08:30:40', '2016-02-08 08:40:04'\n",
      "$ Start_Lat              <f64> 39.865147, 39.92805900000001, 39.063148, 39.747753, 39.627781, 40.100590000000004, 39.758274, 39.770382, 39.778061, 40.100590000000004\n",
      "$ Start_Lng              <f64> -84.058723, -82.831184, -84.032608, -84.20558199999998, -84.188354, -82.92519399999998, -84.23050699999997, -84.194901, -84.172005, -82.92519399999998\n",
      "$ End_Lat                <str> None, None, None, None, None, None, None, None, None, None\n",
      "$ End_Lng                <str> None, None, None, None, None, None, None, None, None, None\n",
      "$ Distance(mi)           <f64> 0.01, 0.01, 0.01, 0.01, 0.01, 0.01, 0.0, 0.01, 0.0, 0.01\n",
      "$ Description            <str> 'Right lane blocked due to accident on I-70 Eastbound at Exit 41 OH-235 State Route 4.', 'Accident on Brice Rd at Tussing Rd. Expect delays.', 'Accident on OH-32 State Route 32 Westbound at Dela Palma Rd. Expect delays.', 'Accident on I-75 Southbound at Exits 52 52B US-35. Expect delays.', 'Accident on McEwen Rd at OH-725 Miamisburg Centerville Rd. Expect delays.', 'Accident on I-270 Outerbelt Northbound near Exit 29 OH-3 State St. Expect delays.', 'Accident on Oakridge Dr at Woodward Ave. Expect delays.', 'Accident on I-75 Southbound at Exit 54B Grand Ave. Expect delays.', 'Accident on Notre Dame Ave at Warner Ave. Expect delays.', 'Right hand shoulder blocked due to accident on I-270 Outerbelt Westbound at Exit 29 OH-3 State St.'\n",
      "$ Street                 <str> 'I-70 E', 'Brice Rd', 'State Route 32', 'I-75 S', 'Miamisburg Centerville Rd', 'Westerville Rd', 'N Woodward Ave', 'N Main St', 'Notre Dame Ave', 'Westerville Rd'\n",
      "$ City                   <str> 'Dayton', 'Reynoldsburg', 'Williamsburg', 'Dayton', 'Dayton', 'Westerville', 'Dayton', 'Dayton', 'Dayton', 'Westerville'\n",
      "$ County                 <str> 'Montgomery', 'Franklin', 'Clermont', 'Montgomery', 'Montgomery', 'Franklin', 'Montgomery', 'Montgomery', 'Montgomery', 'Franklin'\n",
      "$ State                  <str> 'OH', 'OH', 'OH', 'OH', 'OH', 'OH', 'OH', 'OH', 'OH', 'OH'\n",
      "$ Zipcode                <str> '45424', '43068-3402', '45176', '45417', '45459', '43081', '45417-2476', '45405', '45404-1923', '43081'\n",
      "$ Country                <str> 'US', 'US', 'US', 'US', 'US', 'US', 'US', 'US', 'US', 'US'\n",
      "$ Timezone               <str> 'US/Eastern', 'US/Eastern', 'US/Eastern', 'US/Eastern', 'US/Eastern', 'US/Eastern', 'US/Eastern', 'US/Eastern', 'US/Eastern', 'US/Eastern'\n",
      "$ Airport_Code           <str> 'KFFO', 'KCMH', 'KI69', 'KDAY', 'KMGY', 'KCMH', 'KDAY', 'KDAY', 'KFFO', 'KCMH'\n",
      "$ Weather_Timestamp      <str> '2016-02-08 05:58:00', '2016-02-08 05:51:00', '2016-02-08 06:56:00', '2016-02-08 07:38:00', '2016-02-08 07:53:00', '2016-02-08 07:51:00', '2016-02-08 07:56:00', '2016-02-08 07:56:00', '2016-02-08 07:58:00', '2016-02-08 08:28:00'\n",
      "$ Temperature(F)         <f64> 36.9, 37.9, 36.0, 35.1, 36.0, 37.9, 34.0, 34.0, 33.3, 37.4\n",
      "$ Wind_Chill(F)          <f64> None, None, 33.3, 31.0, 33.3, 35.5, 31.0, 31.0, None, 33.8\n",
      "$ Humidity(%)            <f64> 91.0, 100.0, 100.0, 96.0, 89.0, 97.0, 100.0, 100.0, 99.0, 100.0\n",
      "$ Pressure(in)           <f64> 29.68, 29.65, 29.67, 29.64, 29.65, 29.63, 29.66, 29.66, 29.67, 29.62\n",
      "$ Visibility(mi)         <f64> 10.0, 10.0, 10.0, 9.0, 6.0, 7.0, 7.0, 7.0, 5.0, 3.0\n",
      "$ Wind_Direction         <str> 'Calm', 'Calm', 'SW', 'SW', 'SW', 'SSW', 'WSW', 'WSW', 'SW', 'SSW'\n",
      "$ Wind_Speed(mph)        <f64> None, None, 3.5, 4.6, 3.5, 3.5, 3.5, 3.5, 1.2, 4.6\n",
      "$ Precipitation(in)      <f64> 0.02, 0.0, None, None, None, 0.03, None, None, None, 0.02\n",
      "$ Weather_Condition      <str> 'Light Rain', 'Light Rain', 'Overcast', 'Mostly Cloudy', 'Mostly Cloudy', 'Light Rain', 'Overcast', 'Overcast', 'Mostly Cloudy', 'Light Rain'\n",
      "$ Amenity               <bool> False, False, False, False, False, False, False, False, False, False\n",
      "$ Bump                  <bool> False, False, False, False, False, False, False, False, False, False\n",
      "$ Crossing              <bool> False, False, False, False, False, False, False, False, False, False\n",
      "$ Give_Way              <bool> False, False, False, False, False, False, False, False, False, False\n",
      "$ Junction              <bool> False, False, False, False, False, False, False, False, False, False\n",
      "$ No_Exit               <bool> False, False, False, False, False, False, False, False, False, False\n",
      "$ Railway               <bool> False, False, False, False, False, False, False, False, False, False\n",
      "$ Roundabout            <bool> False, False, False, False, False, False, False, False, False, False\n",
      "$ Station               <bool> False, False, False, False, False, False, False, False, False, False\n",
      "$ Stop                  <bool> False, False, False, False, False, False, False, False, False, False\n",
      "$ Traffic_Calming       <bool> False, False, False, False, False, False, False, False, False, False\n",
      "$ Traffic_Signal        <bool> False, False, True, False, True, False, False, False, False, False\n",
      "$ Turning_Loop          <bool> False, False, False, False, False, False, False, False, False, False\n",
      "$ Sunrise_Sunset         <str> 'Night', 'Night', 'Night', 'Night', 'Day', 'Day', 'Day', 'Day', 'Day', 'Day'\n",
      "$ Civil_Twilight         <str> 'Night', 'Night', 'Night', 'Day', 'Day', 'Day', 'Day', 'Day', 'Day', 'Day'\n",
      "$ Nautical_Twilight      <str> 'Night', 'Night', 'Day', 'Day', 'Day', 'Day', 'Day', 'Day', 'Day', 'Day'\n",
      "$ Astronomical_Twilight  <str> 'Night', 'Day', 'Day', 'Day', 'Day', 'Day', 'Day', 'Day', 'Day', 'Day'\n",
      "\n"
     ]
    }
   ],
   "source": [
    "sample_data = 'sample-data/US_Accidents_March23.csv'\n",
    "df = pl.read_csv(sample_data)\n",
    "df.glimpse()"
   ]
  }
 ],
 "metadata": {
  "kernelspec": {
   "display_name": "Python 3 (ipykernel)",
   "language": "python",
   "name": "python3"
  },
  "language_info": {
   "codemirror_mode": {
    "name": "ipython",
    "version": 3
   },
   "file_extension": ".py",
   "mimetype": "text/x-python",
   "name": "python",
   "nbconvert_exporter": "python",
   "pygments_lexer": "ipython3",
   "version": "3.8.2"
  }
 },
 "nbformat": 4,
 "nbformat_minor": 5
}
